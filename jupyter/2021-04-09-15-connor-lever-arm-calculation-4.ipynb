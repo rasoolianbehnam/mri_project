{
 "cells": [
  {
   "cell_type": "markdown",
   "metadata": {
    "pycharm": {
     "name": "#%% md\n"
    }
   },
   "source": [
    "* A pipeline to which you feed an mri image and\n",
    " spits out muscle predictions and lever arms."
   ]
  },
  {
   "cell_type": "code",
   "execution_count": 1,
   "metadata": {
    "ExecuteTime": {
     "end_time": "2021-04-09T19:07:22.261266Z",
     "start_time": "2021-04-09T19:07:05.950475Z"
    },
    "pycharm": {
     "is_executing": false,
     "name": "#%% \n"
    }
   },
   "outputs": [],
   "source": [
    "%config Completer.use_jedi = False\n",
    "%load_ext autoreload\n",
    "%autoreload 2\n",
    "from pylab import rcParams\n",
    "rcParams['figure.figsize'] = 8, 8\n",
    "from mri_project.custom_imports import *\n",
    "import mri_project.muscle_detector as md\n",
    "import mri_project.contour_ops as cntop\n",
    "from mri_project import pipeline\n",
    "import mri_project.utility as ut\n",
    "from mri_project.notebooks import n2021_01_30_connor_lever_arms as nb"
   ]
  },
  {
   "cell_type": "code",
   "execution_count": 84,
   "metadata": {
    "ExecuteTime": {
     "end_time": "2021-04-09T20:09:30.451165Z",
     "start_time": "2021-04-09T20:09:30.417903Z"
    }
   },
   "outputs": [],
   "source": [
    "root = \"/home/bzr0014/git/idea_mri_project/data/connor_lever_arms/CONTROL W SURVEY/\"\n",
    "connor_images_root = root\n",
    "files = ut.get_all_images(connor_images_root, extension='jpg')"
   ]
  },
  {
   "cell_type": "code",
   "execution_count": 83,
   "metadata": {
    "ExecuteTime": {
     "end_time": "2021-04-09T19:59:25.868969Z",
     "start_time": "2021-04-09T19:59:20.636962Z"
    },
    "code_folding": [],
    "scrolled": true
   },
   "outputs": [
    {
     "name": "stdout",
     "output_type": "stream",
     "text": [
      "/home/bzr0014/git/idea_mri_project/data/connor_lever_arms/CONTROL W SURVEY/CO18B/1-CO18B-3BEH.jpg\n",
      "(1664, 2224, 3)\n",
      "/home/bzr0014/git/idea_mri_project/data/connor_lever_arms/CONTROL W SURVEY/CO18B/1-CO18B-3BEH_45.jpg\n",
      "/home/bzr0014/git/idea_mri_project/data/connor_lever_arms/CONTROL W SURVEY/CO18B/1-CO18B-3BEH_90.jpg\n",
      "/home/bzr0014/git/idea_mri_project/data/connor_lever_arms/CONTROL W SURVEY/CO18B/1-CO18B-3BEH_135.jpg\n",
      "/home/bzr0014/git/idea_mri_project/data/connor_lever_arms/CONTROL W SURVEY/CO18B/1-CO18B-3BEH_180.jpg\n",
      "/home/bzr0014/git/idea_mri_project/data/connor_lever_arms/CONTROL W SURVEY/CO18B/4-CO18B-14BEH.jpg\n",
      "(1664, 2224, 3)\n",
      "/home/bzr0014/git/idea_mri_project/data/connor_lever_arms/CONTROL W SURVEY/CO18B/4-CO18B-14BEH_45.jpg\n",
      "/home/bzr0014/git/idea_mri_project/data/connor_lever_arms/CONTROL W SURVEY/CO18B/4-CO18B-14BEH_90.jpg\n",
      "/home/bzr0014/git/idea_mri_project/data/connor_lever_arms/CONTROL W SURVEY/CO18B/4-CO18B-14BEH_135.jpg\n",
      "/home/bzr0014/git/idea_mri_project/data/connor_lever_arms/CONTROL W SURVEY/CO18B/4-CO18B-14BEH_180.jpg\n",
      "/home/bzr0014/git/idea_mri_project/data/connor_lever_arms/CONTROL W SURVEY/CO18B/3-CO18B-9BEH.jpg\n",
      "(1664, 2224, 3)\n",
      "/home/bzr0014/git/idea_mri_project/data/connor_lever_arms/CONTROL W SURVEY/CO18B/3-CO18B-9BEH_45.jpg\n",
      "/home/bzr0014/git/idea_mri_project/data/connor_lever_arms/CONTROL W SURVEY/CO18B/3-CO18B-9BEH_90.jpg\n",
      "/home/bzr0014/git/idea_mri_project/data/connor_lever_arms/CONTROL W SURVEY/CO18B/3-CO18B-9BEH_135.jpg\n",
      "/home/bzr0014/git/idea_mri_project/data/connor_lever_arms/CONTROL W SURVEY/CO18B/3-CO18B-9BEH_180.jpg\n",
      "/home/bzr0014/git/idea_mri_project/data/connor_lever_arms/CONTROL W SURVEY/CO18B/2-CO18B-6BEH.jpg\n",
      "(1664, 2224, 3)\n",
      "/home/bzr0014/git/idea_mri_project/data/connor_lever_arms/CONTROL W SURVEY/CO18B/2-CO18B-6BEH_45.jpg\n",
      "/home/bzr0014/git/idea_mri_project/data/connor_lever_arms/CONTROL W SURVEY/CO18B/2-CO18B-6BEH_90.jpg\n",
      "/home/bzr0014/git/idea_mri_project/data/connor_lever_arms/CONTROL W SURVEY/CO18B/2-CO18B-6BEH_135.jpg\n",
      "/home/bzr0014/git/idea_mri_project/data/connor_lever_arms/CONTROL W SURVEY/CO18B/2-CO18B-6BEH_180.jpg\n",
      "/home/bzr0014/git/idea_mri_project/data/connor_lever_arms/CONTROL W SURVEY/CO18/1-CO18-3BEH.jpg\n",
      "(1574, 1589, 3)\n",
      "/home/bzr0014/git/idea_mri_project/data/connor_lever_arms/CONTROL W SURVEY/CO18/1-CO18-3BEH_45.jpg\n",
      "/home/bzr0014/git/idea_mri_project/data/connor_lever_arms/CONTROL W SURVEY/CO18/1-CO18-3BEH_90.jpg\n",
      "/home/bzr0014/git/idea_mri_project/data/connor_lever_arms/CONTROL W SURVEY/CO18/1-CO18-3BEH_135.jpg\n",
      "/home/bzr0014/git/idea_mri_project/data/connor_lever_arms/CONTROL W SURVEY/CO18/1-CO18-3BEH_180.jpg\n",
      "/home/bzr0014/git/idea_mri_project/data/connor_lever_arms/CONTROL W SURVEY/CO18/2-CO18-5BEH.jpg\n",
      "(1574, 1589, 3)\n",
      "/home/bzr0014/git/idea_mri_project/data/connor_lever_arms/CONTROL W SURVEY/CO18/2-CO18-5BEH_45.jpg\n",
      "/home/bzr0014/git/idea_mri_project/data/connor_lever_arms/CONTROL W SURVEY/CO18/2-CO18-5BEH_90.jpg\n",
      "/home/bzr0014/git/idea_mri_project/data/connor_lever_arms/CONTROL W SURVEY/CO18/2-CO18-5BEH_135.jpg\n",
      "/home/bzr0014/git/idea_mri_project/data/connor_lever_arms/CONTROL W SURVEY/CO18/2-CO18-5BEH_180.jpg\n",
      "/home/bzr0014/git/idea_mri_project/data/connor_lever_arms/CONTROL W SURVEY/CO18/4-CO18-13BEH.jpg\n",
      "(1574, 1589, 3)\n",
      "/home/bzr0014/git/idea_mri_project/data/connor_lever_arms/CONTROL W SURVEY/CO18/4-CO18-13BEH_45.jpg\n",
      "/home/bzr0014/git/idea_mri_project/data/connor_lever_arms/CONTROL W SURVEY/CO18/4-CO18-13BEH_90.jpg\n",
      "/home/bzr0014/git/idea_mri_project/data/connor_lever_arms/CONTROL W SURVEY/CO18/4-CO18-13BEH_135.jpg\n",
      "/home/bzr0014/git/idea_mri_project/data/connor_lever_arms/CONTROL W SURVEY/CO18/4-CO18-13BEH_180.jpg\n",
      "/home/bzr0014/git/idea_mri_project/data/connor_lever_arms/CONTROL W SURVEY/CO18/3-CO18-11BEH.jpg\n",
      "(1574, 1589, 3)\n",
      "/home/bzr0014/git/idea_mri_project/data/connor_lever_arms/CONTROL W SURVEY/CO18/3-CO18-11BEH_45.jpg\n",
      "/home/bzr0014/git/idea_mri_project/data/connor_lever_arms/CONTROL W SURVEY/CO18/3-CO18-11BEH_90.jpg\n",
      "/home/bzr0014/git/idea_mri_project/data/connor_lever_arms/CONTROL W SURVEY/CO18/3-CO18-11BEH_135.jpg\n",
      "/home/bzr0014/git/idea_mri_project/data/connor_lever_arms/CONTROL W SURVEY/CO18/3-CO18-11BEH_180.jpg\n"
     ]
    }
   ],
   "source": [
    "# file = \"/home/bzr0014/git/idea_mri_project/data/connor_images/INTERVENTION/CO7B/4-CO7B-14BEH.jpg\"\n",
    "for file in files:\n",
    "    imgs = nb.compute_lever_arms_for_trace_file(file, angles=(45, 90, 135, 180))\n",
    "    nb.save_img_dict(imgs, ut.replace_path(file, connor_images_root, \"../data/connor_lever_arms/CONTROL W SURVEY/\"))"
   ]
  },
  {
   "cell_type": "markdown",
   "metadata": {},
   "source": [
    "# Appendix"
   ]
  }
 ],
 "metadata": {
  "hide_input": false,
  "kernelspec": {
   "display_name": "Python 3",
   "language": "python",
   "name": "python3"
  },
  "language_info": {
   "codemirror_mode": {
    "name": "ipython",
    "version": 3
   },
   "file_extension": ".py",
   "mimetype": "text/x-python",
   "name": "python",
   "nbconvert_exporter": "python",
   "pygments_lexer": "ipython3",
   "version": "3.6.10"
  },
  "pycharm": {
   "stem_cell": {
    "cell_type": "raw",
    "metadata": {
     "collapsed": false
    },
    "source": []
   }
  },
  "toc": {
   "base_numbering": 1,
   "nav_menu": {},
   "number_sections": true,
   "sideBar": true,
   "skip_h1_title": false,
   "title_cell": "Table of Contents",
   "title_sidebar": "Contents",
   "toc_cell": false,
   "toc_position": {
    "height": "calc(100% - 180px)",
    "left": "10px",
    "top": "150px",
    "width": "252px"
   },
   "toc_section_display": true,
   "toc_window_display": true
  },
  "varInspector": {
   "cols": {
    "lenName": 16,
    "lenType": 16,
    "lenVar": 40
   },
   "kernels_config": {
    "python": {
     "delete_cmd_postfix": "",
     "delete_cmd_prefix": "del ",
     "library": "var_list.py",
     "varRefreshCmd": "print(var_dic_list())"
    },
    "r": {
     "delete_cmd_postfix": ") ",
     "delete_cmd_prefix": "rm(",
     "library": "var_list.r",
     "varRefreshCmd": "cat(var_dic_list()) "
    }
   },
   "types_to_exclude": [
    "module",
    "function",
    "builtin_function_or_method",
    "instance",
    "_Feature"
   ],
   "window_display": false
  }
 },
 "nbformat": 4,
 "nbformat_minor": 4
}

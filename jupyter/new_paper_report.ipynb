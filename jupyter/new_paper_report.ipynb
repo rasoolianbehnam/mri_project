{
 "cells": [
  {
   "cell_type": "markdown",
   "metadata": {},
   "source": [
    "# Goal\n",
    "- Getting result statistics from saved MuscleDetector classes"
   ]
  },
  {
   "cell_type": "code",
   "execution_count": 1,
   "metadata": {},
   "outputs": [],
   "source": [
    "%reset -f\n",
    "%load_ext autoreload\n",
    "%autoreload 2\n",
    "#matplotlib figure size\n",
    "from pylab import rcParams\n",
    "rcParams['figure.figsize'] = 10, 10\n",
    "from custom_imports import *\n",
    "from mri_project.metrics import *"
   ]
  },
  {
   "cell_type": "code",
   "execution_count": 2,
   "metadata": {},
   "outputs": [
    {
     "data": {
      "text/plain": [
       "832"
      ]
     },
     "execution_count": 2,
     "metadata": {},
     "output_type": "execute_result"
    }
   ],
   "source": [
    "files = glob.glob(\"../data/images_with_predictions_v04/*data\")\n",
    "len(files)"
   ]
  },
  {
   "cell_type": "code",
   "execution_count": 3,
   "metadata": {},
   "outputs": [
    {
     "name": "stdout",
     "output_type": "stream",
     "text": [
      "../data/images_with_predictions_v04/4-COM2B-22:50ConRaw.data\n"
     ]
    }
   ],
   "source": [
    "file_ = np.random.choice(files)\n",
    "print(file_)\n",
    "data_ = joblib.load(file_)"
   ]
  },
  {
   "cell_type": "code",
   "execution_count": 4,
   "metadata": {},
   "outputs": [
    {
     "data": {
      "text/plain": [
       "True"
      ]
     },
     "execution_count": 4,
     "metadata": {},
     "output_type": "execute_result"
    }
   ],
   "source": [
    "data_.has_good_prediction()"
   ]
  },
  {
   "cell_type": "code",
   "execution_count": 5,
   "metadata": {},
   "outputs": [],
   "source": [
    "data_.get_predicted_contours(89.8)\n",
    "data_.get_traced_contours(89.8)\n",
    "data_.get_contour_areas()\n",
    "data_.get_contour_centers()"
   ]
  },
  {
   "cell_type": "code",
   "execution_count": 6,
   "metadata": {},
   "outputs": [],
   "source": [
    "# fig, axes = plt.subplots(1, 2, figsize=(20, 10))\n",
    "# axes[0].imshow(data_.traced_lever_arm_images[89.8])\n",
    "# axes[1].imshow(data_.predicted_lever_arm_images[89.8])"
   ]
  },
  {
   "cell_type": "code",
   "execution_count": 7,
   "metadata": {},
   "outputs": [],
   "source": [
    "# plt.imshow(data_.raw_image)"
   ]
  },
  {
   "cell_type": "code",
   "execution_count": 8,
   "metadata": {},
   "outputs": [],
   "source": [
    "from collections import defaultdict\n",
    "all_stats = defaultdict(dict)"
   ]
  },
  {
   "cell_type": "code",
   "execution_count": 9,
   "metadata": {},
   "outputs": [],
   "source": [
    "a_ = np.array(data_.predicted_features['area'])\n",
    "b_ = np.array(data_.traced_features['area'])\n",
    "all_stats[data_.id]['area_ratio'] = dict(enumerate(a_ / b_))"
   ]
  },
  {
   "cell_type": "code",
   "execution_count": 10,
   "metadata": {},
   "outputs": [],
   "source": [
    "a_ = np.array(data_.predicted_features['center'])\n",
    "b_ = np.array(data_.traced_features['center'])"
   ]
  },
  {
   "cell_type": "code",
   "execution_count": 11,
   "metadata": {},
   "outputs": [],
   "source": [
    "all_stats[data_.id]['center_distance'] = dict(enumerate(np.sqrt(np.sum((a_ - b_)**2, axis=1)) * data_.scale))"
   ]
  },
  {
   "cell_type": "code",
   "execution_count": 12,
   "metadata": {},
   "outputs": [],
   "source": [
    "a_ = np.array(data_.predicted_features['lever_arm_89.8'])\n",
    "b_ = np.array(data_.traced_features['lever_arm_89.8'])"
   ]
  },
  {
   "cell_type": "code",
   "execution_count": 13,
   "metadata": {},
   "outputs": [],
   "source": [
    "all_stats[data_.id]['lever_arm_89.8_distance'] = dict(enumerate(a_ - b_))"
   ]
  },
  {
   "cell_type": "code",
   "execution_count": 14,
   "metadata": {},
   "outputs": [],
   "source": [
    "a_ = data_.predicted\n",
    "b_ = data_.traced_multilabel_mask"
   ]
  },
  {
   "cell_type": "code",
   "execution_count": 15,
   "metadata": {},
   "outputs": [],
   "source": [
    "all_stats[data_.id]['total_accuracy'] = total_accuracy(a_, b_)\n",
    "all_stats[data_.id]['accuracy'] = accuracy(a_, b_)\n",
    "all_stats[data_.id]['precision'] = precision(a_, b_)\n",
    "all_stats[data_.id]['recall'] = recall(a_, b_)"
   ]
  },
  {
   "cell_type": "code",
   "execution_count": 24,
   "metadata": {},
   "outputs": [],
   "source": [
    "df_ = pd.DataFrame(all_stats).transpose().unstack()\\\n",
    "    .map(lambda x: list(x.items()) if isinstance(x, dict) else x)\\\n",
    "    .explode().to_frame()"
   ]
  },
  {
   "cell_type": "code",
   "execution_count": 25,
   "metadata": {},
   "outputs": [
    {
     "data": {
      "text/html": [
       "<div>\n",
       "<style scoped>\n",
       "    .dataframe tbody tr th:only-of-type {\n",
       "        vertical-align: middle;\n",
       "    }\n",
       "\n",
       "    .dataframe tbody tr th {\n",
       "        vertical-align: top;\n",
       "    }\n",
       "\n",
       "    .dataframe thead th {\n",
       "        text-align: right;\n",
       "    }\n",
       "</style>\n",
       "<table border=\"1\" class=\"dataframe\">\n",
       "  <thead>\n",
       "    <tr style=\"text-align: right;\">\n",
       "      <th></th>\n",
       "      <th></th>\n",
       "      <th>0</th>\n",
       "    </tr>\n",
       "  </thead>\n",
       "  <tbody>\n",
       "    <tr>\n",
       "      <th rowspan=\"10\" valign=\"top\">accuracy</th>\n",
       "      <th>../data/mri_analysis/3.Contiguous Set#1/Control/Control - Post/Male/Subject M2B/Raw/4-COM2B-22:50ConRaw.jpg</th>\n",
       "      <td>(0, 0.9312251777204755)</td>\n",
       "    </tr>\n",
       "    <tr>\n",
       "      <th>../data/mri_analysis/3.Contiguous Set#1/Control/Control - Post/Male/Subject M2B/Raw/4-COM2B-22:50ConRaw.jpg</th>\n",
       "      <td>(1, 0.9987612465771287)</td>\n",
       "    </tr>\n",
       "    <tr>\n",
       "      <th>../data/mri_analysis/3.Contiguous Set#1/Control/Control - Post/Male/Subject M2B/Raw/4-COM2B-22:50ConRaw.jpg</th>\n",
       "      <td>(4, 0.9825194621372966)</td>\n",
       "    </tr>\n",
       "    <tr>\n",
       "      <th>../data/mri_analysis/3.Contiguous Set#1/Control/Control - Post/Male/Subject M2B/Raw/4-COM2B-22:50ConRaw.jpg</th>\n",
       "      <td>(5, 1.0)</td>\n",
       "    </tr>\n",
       "    <tr>\n",
       "      <th>../data/mri_analysis/3.Contiguous Set#1/Control/Control - Post/Male/Subject M2B/Raw/4-COM2B-22:50ConRaw.jpg</th>\n",
       "      <td>(6, 0.9698047470421718)</td>\n",
       "    </tr>\n",
       "    <tr>\n",
       "      <th>../data/mri_analysis/3.Contiguous Set#1/Control/Control - Post/Male/Subject M2B/Raw/4-COM2B-22:50ConRaw.jpg</th>\n",
       "      <td>(7, 0.9985473753714097)</td>\n",
       "    </tr>\n",
       "    <tr>\n",
       "      <th>../data/mri_analysis/3.Contiguous Set#1/Control/Control - Post/Male/Subject M2B/Raw/4-COM2B-22:50ConRaw.jpg</th>\n",
       "      <td>(8, 1.0)</td>\n",
       "    </tr>\n",
       "    <tr>\n",
       "      <th>../data/mri_analysis/3.Contiguous Set#1/Control/Control - Post/Male/Subject M2B/Raw/4-COM2B-22:50ConRaw.jpg</th>\n",
       "      <td>(9, 0.9992692148825978)</td>\n",
       "    </tr>\n",
       "    <tr>\n",
       "      <th>../data/mri_analysis/3.Contiguous Set#1/Control/Control - Post/Male/Subject M2B/Raw/4-COM2B-22:50ConRaw.jpg</th>\n",
       "      <td>(10, 0.9700068166325835)</td>\n",
       "    </tr>\n",
       "    <tr>\n",
       "      <th>../data/mri_analysis/3.Contiguous Set#1/Control/Control - Post/Male/Subject M2B/Raw/4-COM2B-22:50ConRaw.jpg</th>\n",
       "      <td>(11, 0.999126383226558)</td>\n",
       "    </tr>\n",
       "    <tr>\n",
       "      <th rowspan=\"9\" valign=\"top\">area_ratio</th>\n",
       "      <th>../data/mri_analysis/3.Contiguous Set#1/Control/Control - Post/Male/Subject M2B/Raw/4-COM2B-22:50ConRaw.jpg</th>\n",
       "      <td>(0, 1.5879114520475472)</td>\n",
       "    </tr>\n",
       "    <tr>\n",
       "      <th>../data/mri_analysis/3.Contiguous Set#1/Control/Control - Post/Male/Subject M2B/Raw/4-COM2B-22:50ConRaw.jpg</th>\n",
       "      <td>(1, 2.743765903307888)</td>\n",
       "    </tr>\n",
       "    <tr>\n",
       "      <th>../data/mri_analysis/3.Contiguous Set#1/Control/Control - Post/Male/Subject M2B/Raw/4-COM2B-22:50ConRaw.jpg</th>\n",
       "      <td>(2, 2.654054911918743)</td>\n",
       "    </tr>\n",
       "    <tr>\n",
       "      <th>../data/mri_analysis/3.Contiguous Set#1/Control/Control - Post/Male/Subject M2B/Raw/4-COM2B-22:50ConRaw.jpg</th>\n",
       "      <td>(3, 1.6797509173801846)</td>\n",
       "    </tr>\n",
       "    <tr>\n",
       "      <th>../data/mri_analysis/3.Contiguous Set#1/Control/Control - Post/Male/Subject M2B/Raw/4-COM2B-22:50ConRaw.jpg</th>\n",
       "      <td>(4, 1.6317406719567786)</td>\n",
       "    </tr>\n",
       "    <tr>\n",
       "      <th>../data/mri_analysis/3.Contiguous Set#1/Control/Control - Post/Male/Subject M2B/Raw/4-COM2B-22:50ConRaw.jpg</th>\n",
       "      <td>(5, 1.913543228385807)</td>\n",
       "    </tr>\n",
       "    <tr>\n",
       "      <th>../data/mri_analysis/3.Contiguous Set#1/Control/Control - Post/Male/Subject M2B/Raw/4-COM2B-22:50ConRaw.jpg</th>\n",
       "      <td>(6, 1.5802095572258614)</td>\n",
       "    </tr>\n",
       "    <tr>\n",
       "      <th>../data/mri_analysis/3.Contiguous Set#1/Control/Control - Post/Male/Subject M2B/Raw/4-COM2B-22:50ConRaw.jpg</th>\n",
       "      <td>(7, 1.898486663037561)</td>\n",
       "    </tr>\n",
       "    <tr>\n",
       "      <th>../data/mri_analysis/3.Contiguous Set#1/Control/Control - Post/Male/Subject M2B/Raw/4-COM2B-22:50ConRaw.jpg</th>\n",
       "      <td>(8, 2.084810610891468)</td>\n",
       "    </tr>\n",
       "    <tr>\n",
       "      <th rowspan=\"9\" valign=\"top\">center_distance</th>\n",
       "      <th>../data/mri_analysis/3.Contiguous Set#1/Control/Control - Post/Male/Subject M2B/Raw/4-COM2B-22:50ConRaw.jpg</th>\n",
       "      <td>(0, 0.09384829699947257)</td>\n",
       "    </tr>\n",
       "    <tr>\n",
       "      <th>../data/mri_analysis/3.Contiguous Set#1/Control/Control - Post/Male/Subject M2B/Raw/4-COM2B-22:50ConRaw.jpg</th>\n",
       "      <td>(1, 1.0847388995207525)</td>\n",
       "    </tr>\n",
       "    <tr>\n",
       "      <th>../data/mri_analysis/3.Contiguous Set#1/Control/Control - Post/Male/Subject M2B/Raw/4-COM2B-22:50ConRaw.jpg</th>\n",
       "      <td>(2, 0.899034993252044)</td>\n",
       "    </tr>\n",
       "    <tr>\n",
       "      <th>../data/mri_analysis/3.Contiguous Set#1/Control/Control - Post/Male/Subject M2B/Raw/4-COM2B-22:50ConRaw.jpg</th>\n",
       "      <td>(3, 0.7381569257650791)</td>\n",
       "    </tr>\n",
       "    <tr>\n",
       "      <th>../data/mri_analysis/3.Contiguous Set#1/Control/Control - Post/Male/Subject M2B/Raw/4-COM2B-22:50ConRaw.jpg</th>\n",
       "      <td>(4, 0.2856747450916635)</td>\n",
       "    </tr>\n",
       "    <tr>\n",
       "      <th>../data/mri_analysis/3.Contiguous Set#1/Control/Control - Post/Male/Subject M2B/Raw/4-COM2B-22:50ConRaw.jpg</th>\n",
       "      <td>(5, 0.2979254642526644)</td>\n",
       "    </tr>\n",
       "    <tr>\n",
       "      <th>../data/mri_analysis/3.Contiguous Set#1/Control/Control - Post/Male/Subject M2B/Raw/4-COM2B-22:50ConRaw.jpg</th>\n",
       "      <td>(6, 0.04857070739004439)</td>\n",
       "    </tr>\n",
       "    <tr>\n",
       "      <th>../data/mri_analysis/3.Contiguous Set#1/Control/Control - Post/Male/Subject M2B/Raw/4-COM2B-22:50ConRaw.jpg</th>\n",
       "      <td>(7, 0.34718554133662277)</td>\n",
       "    </tr>\n",
       "    <tr>\n",
       "      <th>../data/mri_analysis/3.Contiguous Set#1/Control/Control - Post/Male/Subject M2B/Raw/4-COM2B-22:50ConRaw.jpg</th>\n",
       "      <td>(8, 0.708004503735957)</td>\n",
       "    </tr>\n",
       "    <tr>\n",
       "      <th rowspan=\"9\" valign=\"top\">lever_arm_89.8_distance</th>\n",
       "      <th>../data/mri_analysis/3.Contiguous Set#1/Control/Control - Post/Male/Subject M2B/Raw/4-COM2B-22:50ConRaw.jpg</th>\n",
       "      <td>(0, -0.003403341464255468)</td>\n",
       "    </tr>\n",
       "    <tr>\n",
       "      <th>../data/mri_analysis/3.Contiguous Set#1/Control/Control - Post/Male/Subject M2B/Raw/4-COM2B-22:50ConRaw.jpg</th>\n",
       "      <td>(1, 0.9639500005269013)</td>\n",
       "    </tr>\n",
       "    <tr>\n",
       "      <th>../data/mri_analysis/3.Contiguous Set#1/Control/Control - Post/Male/Subject M2B/Raw/4-COM2B-22:50ConRaw.jpg</th>\n",
       "      <td>(2, 0.7968889912377084)</td>\n",
       "    </tr>\n",
       "    <tr>\n",
       "      <th>../data/mri_analysis/3.Contiguous Set#1/Control/Control - Post/Male/Subject M2B/Raw/4-COM2B-22:50ConRaw.jpg</th>\n",
       "      <td>(3, 0.682406690617571)</td>\n",
       "    </tr>\n",
       "    <tr>\n",
       "      <th>../data/mri_analysis/3.Contiguous Set#1/Control/Control - Post/Male/Subject M2B/Raw/4-COM2B-22:50ConRaw.jpg</th>\n",
       "      <td>(4, 0.1655959523076853)</td>\n",
       "    </tr>\n",
       "    <tr>\n",
       "      <th>../data/mri_analysis/3.Contiguous Set#1/Control/Control - Post/Male/Subject M2B/Raw/4-COM2B-22:50ConRaw.jpg</th>\n",
       "      <td>(5, 0.03580711308283302)</td>\n",
       "    </tr>\n",
       "    <tr>\n",
       "      <th>../data/mri_analysis/3.Contiguous Set#1/Control/Control - Post/Male/Subject M2B/Raw/4-COM2B-22:50ConRaw.jpg</th>\n",
       "      <td>(6, 0.002352509891508703)</td>\n",
       "    </tr>\n",
       "    <tr>\n",
       "      <th>../data/mri_analysis/3.Contiguous Set#1/Control/Control - Post/Male/Subject M2B/Raw/4-COM2B-22:50ConRaw.jpg</th>\n",
       "      <td>(7, -0.2741402532671966)</td>\n",
       "    </tr>\n",
       "    <tr>\n",
       "      <th>../data/mri_analysis/3.Contiguous Set#1/Control/Control - Post/Male/Subject M2B/Raw/4-COM2B-22:50ConRaw.jpg</th>\n",
       "      <td>(8, -0.35260741844154353)</td>\n",
       "    </tr>\n",
       "    <tr>\n",
       "      <th rowspan=\"10\" valign=\"top\">precision</th>\n",
       "      <th>../data/mri_analysis/3.Contiguous Set#1/Control/Control - Post/Male/Subject M2B/Raw/4-COM2B-22:50ConRaw.jpg</th>\n",
       "      <td>(0, 0.005090322809614829)</td>\n",
       "    </tr>\n",
       "    <tr>\n",
       "      <th>../data/mri_analysis/3.Contiguous Set#1/Control/Control - Post/Male/Subject M2B/Raw/4-COM2B-22:50ConRaw.jpg</th>\n",
       "      <td>(1, 0.006497204653059211)</td>\n",
       "    </tr>\n",
       "    <tr>\n",
       "      <th>../data/mri_analysis/3.Contiguous Set#1/Control/Control - Post/Male/Subject M2B/Raw/4-COM2B-22:50ConRaw.jpg</th>\n",
       "      <td>(4, 0.008831451679785957)</td>\n",
       "    </tr>\n",
       "    <tr>\n",
       "      <th>../data/mri_analysis/3.Contiguous Set#1/Control/Control - Post/Male/Subject M2B/Raw/4-COM2B-22:50ConRaw.jpg</th>\n",
       "      <td>(5, 0.009453523005208495)</td>\n",
       "    </tr>\n",
       "    <tr>\n",
       "      <th>../data/mri_analysis/3.Contiguous Set#1/Control/Control - Post/Male/Subject M2B/Raw/4-COM2B-22:50ConRaw.jpg</th>\n",
       "      <td>(6, 0.0034802855326769356)</td>\n",
       "    </tr>\n",
       "    <tr>\n",
       "      <th>../data/mri_analysis/3.Contiguous Set#1/Control/Control - Post/Male/Subject M2B/Raw/4-COM2B-22:50ConRaw.jpg</th>\n",
       "      <td>(7, 0.003390741472195018)</td>\n",
       "    </tr>\n",
       "    <tr>\n",
       "      <th>../data/mri_analysis/3.Contiguous Set#1/Control/Control - Post/Male/Subject M2B/Raw/4-COM2B-22:50ConRaw.jpg</th>\n",
       "      <td>(8, 0.009347118844580274)</td>\n",
       "    </tr>\n",
       "    <tr>\n",
       "      <th>../data/mri_analysis/3.Contiguous Set#1/Control/Control - Post/Male/Subject M2B/Raw/4-COM2B-22:50ConRaw.jpg</th>\n",
       "      <td>(9, 0.00658508008376129)</td>\n",
       "    </tr>\n",
       "    <tr>\n",
       "      <th>../data/mri_analysis/3.Contiguous Set#1/Control/Control - Post/Male/Subject M2B/Raw/4-COM2B-22:50ConRaw.jpg</th>\n",
       "      <td>(10, 0.007738985964902125)</td>\n",
       "    </tr>\n",
       "    <tr>\n",
       "      <th>../data/mri_analysis/3.Contiguous Set#1/Control/Control - Post/Male/Subject M2B/Raw/4-COM2B-22:50ConRaw.jpg</th>\n",
       "      <td>(11, 0.009272762670978324)</td>\n",
       "    </tr>\n",
       "    <tr>\n",
       "      <th rowspan=\"10\" valign=\"top\">recall</th>\n",
       "      <th>../data/mri_analysis/3.Contiguous Set#1/Control/Control - Post/Male/Subject M2B/Raw/4-COM2B-22:50ConRaw.jpg</th>\n",
       "      <td>(0, 0.0687748222795245)</td>\n",
       "    </tr>\n",
       "    <tr>\n",
       "      <th>../data/mri_analysis/3.Contiguous Set#1/Control/Control - Post/Male/Subject M2B/Raw/4-COM2B-22:50ConRaw.jpg</th>\n",
       "      <td>(1, 0.0012387534228713)</td>\n",
       "    </tr>\n",
       "    <tr>\n",
       "      <th>../data/mri_analysis/3.Contiguous Set#1/Control/Control - Post/Male/Subject M2B/Raw/4-COM2B-22:50ConRaw.jpg</th>\n",
       "      <td>(4, 0.01748053786270347)</td>\n",
       "    </tr>\n",
       "    <tr>\n",
       "      <th>../data/mri_analysis/3.Contiguous Set#1/Control/Control - Post/Male/Subject M2B/Raw/4-COM2B-22:50ConRaw.jpg</th>\n",
       "      <td>(5, 0.0)</td>\n",
       "    </tr>\n",
       "    <tr>\n",
       "      <th>../data/mri_analysis/3.Contiguous Set#1/Control/Control - Post/Male/Subject M2B/Raw/4-COM2B-22:50ConRaw.jpg</th>\n",
       "      <td>(6, 0.030195252957828263)</td>\n",
       "    </tr>\n",
       "    <tr>\n",
       "      <th>../data/mri_analysis/3.Contiguous Set#1/Control/Control - Post/Male/Subject M2B/Raw/4-COM2B-22:50ConRaw.jpg</th>\n",
       "      <td>(7, 0.0014526246285902938)</td>\n",
       "    </tr>\n",
       "    <tr>\n",
       "      <th>../data/mri_analysis/3.Contiguous Set#1/Control/Control - Post/Male/Subject M2B/Raw/4-COM2B-22:50ConRaw.jpg</th>\n",
       "      <td>(8, 0.0)</td>\n",
       "    </tr>\n",
       "    <tr>\n",
       "      <th>../data/mri_analysis/3.Contiguous Set#1/Control/Control - Post/Male/Subject M2B/Raw/4-COM2B-22:50ConRaw.jpg</th>\n",
       "      <td>(9, 0.0007307851174022178)</td>\n",
       "    </tr>\n",
       "    <tr>\n",
       "      <th>../data/mri_analysis/3.Contiguous Set#1/Control/Control - Post/Male/Subject M2B/Raw/4-COM2B-22:50ConRaw.jpg</th>\n",
       "      <td>(10, 0.029993183367416496)</td>\n",
       "    </tr>\n",
       "    <tr>\n",
       "      <th>../data/mri_analysis/3.Contiguous Set#1/Control/Control - Post/Male/Subject M2B/Raw/4-COM2B-22:50ConRaw.jpg</th>\n",
       "      <td>(11, 0.0008736167734420501)</td>\n",
       "    </tr>\n",
       "    <tr>\n",
       "      <th>total_accuracy</th>\n",
       "      <th>../data/mri_analysis/3.Contiguous Set#1/Control/Control - Post/Male/Subject M2B/Raw/4-COM2B-22:50ConRaw.jpg</th>\n",
       "      <td>0.935564</td>\n",
       "    </tr>\n",
       "  </tbody>\n",
       "</table>\n",
       "</div>"
      ],
      "text/plain": [
       "                                                                                                      0\n",
       "accuracy                ../data/mri_analysis/3.Contiguous Set#1/Control...      (0, 0.9312251777204755)\n",
       "                        ../data/mri_analysis/3.Contiguous Set#1/Control...      (1, 0.9987612465771287)\n",
       "                        ../data/mri_analysis/3.Contiguous Set#1/Control...      (4, 0.9825194621372966)\n",
       "                        ../data/mri_analysis/3.Contiguous Set#1/Control...                     (5, 1.0)\n",
       "                        ../data/mri_analysis/3.Contiguous Set#1/Control...      (6, 0.9698047470421718)\n",
       "                        ../data/mri_analysis/3.Contiguous Set#1/Control...      (7, 0.9985473753714097)\n",
       "                        ../data/mri_analysis/3.Contiguous Set#1/Control...                     (8, 1.0)\n",
       "                        ../data/mri_analysis/3.Contiguous Set#1/Control...      (9, 0.9992692148825978)\n",
       "                        ../data/mri_analysis/3.Contiguous Set#1/Control...     (10, 0.9700068166325835)\n",
       "                        ../data/mri_analysis/3.Contiguous Set#1/Control...      (11, 0.999126383226558)\n",
       "area_ratio              ../data/mri_analysis/3.Contiguous Set#1/Control...      (0, 1.5879114520475472)\n",
       "                        ../data/mri_analysis/3.Contiguous Set#1/Control...       (1, 2.743765903307888)\n",
       "                        ../data/mri_analysis/3.Contiguous Set#1/Control...       (2, 2.654054911918743)\n",
       "                        ../data/mri_analysis/3.Contiguous Set#1/Control...      (3, 1.6797509173801846)\n",
       "                        ../data/mri_analysis/3.Contiguous Set#1/Control...      (4, 1.6317406719567786)\n",
       "                        ../data/mri_analysis/3.Contiguous Set#1/Control...       (5, 1.913543228385807)\n",
       "                        ../data/mri_analysis/3.Contiguous Set#1/Control...      (6, 1.5802095572258614)\n",
       "                        ../data/mri_analysis/3.Contiguous Set#1/Control...       (7, 1.898486663037561)\n",
       "                        ../data/mri_analysis/3.Contiguous Set#1/Control...       (8, 2.084810610891468)\n",
       "center_distance         ../data/mri_analysis/3.Contiguous Set#1/Control...     (0, 0.09384829699947257)\n",
       "                        ../data/mri_analysis/3.Contiguous Set#1/Control...      (1, 1.0847388995207525)\n",
       "                        ../data/mri_analysis/3.Contiguous Set#1/Control...       (2, 0.899034993252044)\n",
       "                        ../data/mri_analysis/3.Contiguous Set#1/Control...      (3, 0.7381569257650791)\n",
       "                        ../data/mri_analysis/3.Contiguous Set#1/Control...      (4, 0.2856747450916635)\n",
       "                        ../data/mri_analysis/3.Contiguous Set#1/Control...      (5, 0.2979254642526644)\n",
       "                        ../data/mri_analysis/3.Contiguous Set#1/Control...     (6, 0.04857070739004439)\n",
       "                        ../data/mri_analysis/3.Contiguous Set#1/Control...     (7, 0.34718554133662277)\n",
       "                        ../data/mri_analysis/3.Contiguous Set#1/Control...       (8, 0.708004503735957)\n",
       "lever_arm_89.8_distance ../data/mri_analysis/3.Contiguous Set#1/Control...   (0, -0.003403341464255468)\n",
       "                        ../data/mri_analysis/3.Contiguous Set#1/Control...      (1, 0.9639500005269013)\n",
       "                        ../data/mri_analysis/3.Contiguous Set#1/Control...      (2, 0.7968889912377084)\n",
       "                        ../data/mri_analysis/3.Contiguous Set#1/Control...       (3, 0.682406690617571)\n",
       "                        ../data/mri_analysis/3.Contiguous Set#1/Control...      (4, 0.1655959523076853)\n",
       "                        ../data/mri_analysis/3.Contiguous Set#1/Control...     (5, 0.03580711308283302)\n",
       "                        ../data/mri_analysis/3.Contiguous Set#1/Control...    (6, 0.002352509891508703)\n",
       "                        ../data/mri_analysis/3.Contiguous Set#1/Control...     (7, -0.2741402532671966)\n",
       "                        ../data/mri_analysis/3.Contiguous Set#1/Control...    (8, -0.35260741844154353)\n",
       "precision               ../data/mri_analysis/3.Contiguous Set#1/Control...    (0, 0.005090322809614829)\n",
       "                        ../data/mri_analysis/3.Contiguous Set#1/Control...    (1, 0.006497204653059211)\n",
       "                        ../data/mri_analysis/3.Contiguous Set#1/Control...    (4, 0.008831451679785957)\n",
       "                        ../data/mri_analysis/3.Contiguous Set#1/Control...    (5, 0.009453523005208495)\n",
       "                        ../data/mri_analysis/3.Contiguous Set#1/Control...   (6, 0.0034802855326769356)\n",
       "                        ../data/mri_analysis/3.Contiguous Set#1/Control...    (7, 0.003390741472195018)\n",
       "                        ../data/mri_analysis/3.Contiguous Set#1/Control...    (8, 0.009347118844580274)\n",
       "                        ../data/mri_analysis/3.Contiguous Set#1/Control...     (9, 0.00658508008376129)\n",
       "                        ../data/mri_analysis/3.Contiguous Set#1/Control...   (10, 0.007738985964902125)\n",
       "                        ../data/mri_analysis/3.Contiguous Set#1/Control...   (11, 0.009272762670978324)\n",
       "recall                  ../data/mri_analysis/3.Contiguous Set#1/Control...      (0, 0.0687748222795245)\n",
       "                        ../data/mri_analysis/3.Contiguous Set#1/Control...      (1, 0.0012387534228713)\n",
       "                        ../data/mri_analysis/3.Contiguous Set#1/Control...     (4, 0.01748053786270347)\n",
       "                        ../data/mri_analysis/3.Contiguous Set#1/Control...                     (5, 0.0)\n",
       "                        ../data/mri_analysis/3.Contiguous Set#1/Control...    (6, 0.030195252957828263)\n",
       "                        ../data/mri_analysis/3.Contiguous Set#1/Control...   (7, 0.0014526246285902938)\n",
       "                        ../data/mri_analysis/3.Contiguous Set#1/Control...                     (8, 0.0)\n",
       "                        ../data/mri_analysis/3.Contiguous Set#1/Control...   (9, 0.0007307851174022178)\n",
       "                        ../data/mri_analysis/3.Contiguous Set#1/Control...   (10, 0.029993183367416496)\n",
       "                        ../data/mri_analysis/3.Contiguous Set#1/Control...  (11, 0.0008736167734420501)\n",
       "total_accuracy          ../data/mri_analysis/3.Contiguous Set#1/Control...                     0.935564"
      ]
     },
     "execution_count": 25,
     "metadata": {},
     "output_type": "execute_result"
    }
   ],
   "source": [
    "df_"
   ]
  },
  {
   "cell_type": "code",
   "execution_count": 195,
   "metadata": {},
   "outputs": [
    {
     "name": "stdout",
     "output_type": "stream",
     "text": [
      "pandas==0.24.1\r\n"
     ]
    }
   ],
   "source": [
    "!pip freeze | grep pandas"
   ]
  },
  {
   "cell_type": "code",
   "execution_count": 196,
   "metadata": {},
   "outputs": [
    {
     "name": "stdout",
     "output_type": "stream",
     "text": [
      "Collecting pandas\n",
      "  Downloading pandas-1.1.1-cp36-cp36m-manylinux1_x86_64.whl (10.5 MB)\n",
      "\u001b[K     |████████████████████████████████| 10.5 MB 533 kB/s eta 0:00:01\n",
      "\u001b[?25hRequirement already satisfied, skipping upgrade: numpy>=1.15.4 in /home/bzr0014/.local/lib/python3.6/site-packages (from pandas) (1.18.5)\n",
      "Requirement already satisfied, skipping upgrade: python-dateutil>=2.7.3 in /home/bzr0014/.local/lib/python3.6/site-packages (from pandas) (2.8.1)\n",
      "Requirement already satisfied, skipping upgrade: pytz>=2017.2 in /home/bzr0014/.local/lib/python3.6/site-packages (from pandas) (2020.1)\n",
      "Requirement already satisfied, skipping upgrade: six>=1.5 in /home/bzr0014/.local/lib/python3.6/site-packages (from python-dateutil>=2.7.3->pandas) (1.15.0)\n",
      "Installing collected packages: pandas\n",
      "  Attempting uninstall: pandas\n",
      "    Found existing installation: pandas 0.24.1\n",
      "    Uninstalling pandas-0.24.1:\n",
      "      Successfully uninstalled pandas-0.24.1\n",
      "Successfully installed pandas-1.1.1\n",
      "Note: you may need to restart the kernel to use updated packages.\n"
     ]
    }
   ],
   "source": [
    "pip install --upgrade pandas"
   ]
  },
  {
   "cell_type": "code",
   "execution_count": null,
   "metadata": {},
   "outputs": [],
   "source": []
  }
 ],
 "metadata": {
  "kernelspec": {
   "display_name": "Python 3",
   "language": "python",
   "name": "python3"
  },
  "language_info": {
   "codemirror_mode": {
    "name": "ipython",
    "version": 3
   },
   "file_extension": ".py",
   "mimetype": "text/x-python",
   "name": "python",
   "nbconvert_exporter": "python",
   "pygments_lexer": "ipython3",
   "version": "3.6.10"
  }
 },
 "nbformat": 4,
 "nbformat_minor": 4
}

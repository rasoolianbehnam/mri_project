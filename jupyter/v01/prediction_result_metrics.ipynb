{
 "cells": [
  {
   "cell_type": "code",
   "execution_count": 1,
   "metadata": {},
   "outputs": [],
   "source": [
    "%load_ext autoreload\n",
    "%autoreload 2\n",
    "from custom_imports import *\n",
    "from collections import namedtuple\n",
    "from mri_project.utility import match_names_by_dir\n",
    "from mri_project.experimental import get_contours\n",
    "from mri_project.contour_ops import erode_by_muscle_class"
   ]
  },
  {
   "cell_type": "code",
   "execution_count": 2,
   "metadata": {},
   "outputs": [],
   "source": [
    "from mri_project.contour_ops import get_muscle_contours, draw_contours_dict, sort_muscle_contours_by_angle, get_muscle_contours_dict\n",
    "from mri_project.utility import draw_lever_arms"
   ]
  },
  {
   "cell_type": "code",
   "execution_count": 3,
   "metadata": {},
   "outputs": [],
   "source": [
    "# ls /data/sesek2/data/predictions/"
   ]
  },
  {
   "cell_type": "code",
   "execution_count": 4,
   "metadata": {},
   "outputs": [],
   "source": [
    "all_images = glob.glob(\"/data/sesek2/data/predictions//**/*png\", recursive=True)\n",
    "classes = [x for x in all_images if x.endswith(\"classes.png\")]\n",
    "predictions = [x for x in all_images if x.endswith(\"predicitons.png\")]\n",
    "class_image_paths, prediction_image_paths = match_names_by_dir(classes, predictions)"
   ]
  },
  {
   "cell_type": "code",
   "execution_count": 5,
   "metadata": {},
   "outputs": [],
   "source": [
    "def read_pred(path):\n",
    "    img = cv2.imread(path, 0)//10\n",
    "    kernel_sizes = dict(enumerate([25, 15, 25, 5, 25, 15, 25, 20, 15, 25, 25, 25], 1))\n",
    "    prd = erode_by_muscle_class(img, kernel_sizes)\n",
    "    print(np.unique(prd))\n",
    "    muscle_contours_dict = get_muscle_contours_dict(prd)\n",
    "    muscle_contours = {k: max(v, key=lambda x: len(x)) for k, v in muscle_contours_dict.items() if k and len(v)}\n",
    "    print({k: len(v) for k, v in muscle_contours.items()})\n",
    "    out = np.zeros_like(prd)\n",
    "    for muscle, cnts in muscle_contours.items():\n",
    "        if muscle == 0: continue\n",
    "        k = kernel_sizes[muscle]\n",
    "        imt = np.zeros_like(prd)\n",
    "        cv2.drawContours(imt, [cnts], 0, 1, -1) \n",
    "        out += imt* int(muscle)\n",
    "    return out"
   ]
  },
  {
   "cell_type": "code",
   "execution_count": 6,
   "metadata": {},
   "outputs": [],
   "source": [
    "from mri_project.experimental import accuracy, precision, recall\n",
    "from mri_project.metrics import get_confusion_matrix"
   ]
  },
  {
   "cell_type": "code",
   "execution_count": 7,
   "metadata": {},
   "outputs": [],
   "source": [
    "class_images = bag.from_sequence(class_image_paths).map(lambda x: cv2.imread(x, 0)//10)\n",
    "prediction_images = bag.from_sequence(prediction_image_paths).map(read_pred)"
   ]
  },
  {
   "cell_type": "markdown",
   "metadata": {},
   "source": [
    "# Getting global stuff"
   ]
  },
  {
   "cell_type": "code",
   "execution_count": 8,
   "metadata": {},
   "outputs": [],
   "source": [
    "confusion_matrices = bag.map(get_confusion_matrix, class_images, prediction_images)\n",
    "accuracies = bag.map(accuracy, class_images, prediction_images)\n",
    "precisions = bag.map(precision, class_images, prediction_images)\n",
    "recalls = bag.map(recall, class_images, prediction_images)"
   ]
  },
  {
   "cell_type": "code",
   "execution_count": 11,
   "metadata": {},
   "outputs": [],
   "source": [
    "accuracies, precisions, recalls = compute(accuracies, precisions, recalls)"
   ]
  },
  {
   "cell_type": "code",
   "execution_count": 14,
   "metadata": {},
   "outputs": [
    {
     "data": {
      "text/plain": [
       "(array([  5.,   3.,   2.,   3.,  12.,  29.,  33., 123., 238., 119.]),\n",
       " array([0.84242219, 0.85638211, 0.87034204, 0.88430197, 0.8982619 ,\n",
       "        0.91222183, 0.92618175, 0.94014168, 0.95410161, 0.96806154,\n",
       "        0.98202147]),\n",
       " <a list of 10 Patch objects>)"
      ]
     },
     "execution_count": 14,
     "metadata": {},
     "output_type": "execute_result"
    },
    {
     "data": {
      "image/png": "[encoded data removed]",
      "text/plain": [
       "<Figure size 432x288 with 1 Axes>"
      ]
     },
     "metadata": {
      "needs_background": "light"
     },
     "output_type": "display_data"
    }
   ],
   "source": [
    "plt.hist(accuracies, color='#00FFFF', )"
   ]
  },
  {
   "cell_type": "code",
   "execution_count": 15,
   "metadata": {},
   "outputs": [],
   "source": [
    "def clean_9muscles(arr):\n",
    "    out = np.array([None]*12)\n",
    "    for i, j in enumerate([ 0,  1,  4,  5,  6,  7,  8,  9, 10, 11]):\n",
    "        out[j] = arr[i]\n",
    "    return out"
   ]
  },
  {
   "cell_type": "code",
   "execution_count": 24,
   "metadata": {},
   "outputs": [],
   "source": [
    "import pandas as pd\n",
    "mean_precitions = pd.DataFrame(np.array([x if len(x)==12 else clean_9muscles(x) for x in precisions])).mean()\n",
    "mean_recalls = pd.DataFrame([x if len(x)==12 else clean_9muscles(x) for x in recalls]).mean()\n",
    "mean_accuracies = pd.DataFrame(accuracies).mean()"
   ]
  },
  {
   "cell_type": "code",
   "execution_count": 42,
   "metadata": {},
   "outputs": [
    {
     "data": {
      "text/html": [
       "<div>\n",
       "<style scoped>\n",
       "    .dataframe tbody tr th:only-of-type {\n",
       "        vertical-align: middle;\n",
       "    }\n",
       "\n",
       "    .dataframe tbody tr th {\n",
       "        vertical-align: top;\n",
       "    }\n",
       "\n",
       "    .dataframe thead th {\n",
       "        text-align: right;\n",
       "    }\n",
       "</style>\n",
       "<table border=\"1\" class=\"dataframe\">\n",
       "  <thead>\n",
       "    <tr style=\"text-align: right;\">\n",
       "      <th></th>\n",
       "      <th>Mean Precision</th>\n",
       "      <th>Mean Recall</th>\n",
       "    </tr>\n",
       "    <tr>\n",
       "      <th>Muscle #</th>\n",
       "      <th></th>\n",
       "      <th></th>\n",
       "    </tr>\n",
       "  </thead>\n",
       "  <tbody>\n",
       "    <tr>\n",
       "      <th>0</th>\n",
       "      <td>0.98</td>\n",
       "      <td>0.97</td>\n",
       "    </tr>\n",
       "    <tr>\n",
       "      <th>1</th>\n",
       "      <td>0.91</td>\n",
       "      <td>0.83</td>\n",
       "    </tr>\n",
       "    <tr>\n",
       "      <th>2</th>\n",
       "      <td>0.59</td>\n",
       "      <td>0.69</td>\n",
       "    </tr>\n",
       "    <tr>\n",
       "      <th>3</th>\n",
       "      <td>0.60</td>\n",
       "      <td>0.51</td>\n",
       "    </tr>\n",
       "    <tr>\n",
       "      <th>4</th>\n",
       "      <td>0.47</td>\n",
       "      <td>0.87</td>\n",
       "    </tr>\n",
       "    <tr>\n",
       "      <th>5</th>\n",
       "      <td>0.64</td>\n",
       "      <td>0.75</td>\n",
       "    </tr>\n",
       "    <tr>\n",
       "      <th>6</th>\n",
       "      <td>0.83</td>\n",
       "      <td>0.93</td>\n",
       "    </tr>\n",
       "    <tr>\n",
       "      <th>7</th>\n",
       "      <td>0.90</td>\n",
       "      <td>0.86</td>\n",
       "    </tr>\n",
       "    <tr>\n",
       "      <th>8</th>\n",
       "      <td>0.81</td>\n",
       "      <td>0.85</td>\n",
       "    </tr>\n",
       "    <tr>\n",
       "      <th>9</th>\n",
       "      <td>0.78</td>\n",
       "      <td>0.88</td>\n",
       "    </tr>\n",
       "    <tr>\n",
       "      <th>10</th>\n",
       "      <td>0.78</td>\n",
       "      <td>0.82</td>\n",
       "    </tr>\n",
       "    <tr>\n",
       "      <th>11</th>\n",
       "      <td>0.77</td>\n",
       "      <td>0.82</td>\n",
       "    </tr>\n",
       "  </tbody>\n",
       "</table>\n",
       "</div>"
      ],
      "text/plain": [
       "          Mean Precision  Mean Recall\n",
       "Muscle #                             \n",
       "0                   0.98         0.97\n",
       "1                   0.91         0.83\n",
       "2                   0.59         0.69\n",
       "3                   0.60         0.51\n",
       "4                   0.47         0.87\n",
       "5                   0.64         0.75\n",
       "6                   0.83         0.93\n",
       "7                   0.90         0.86\n",
       "8                   0.81         0.85\n",
       "9                   0.78         0.88\n",
       "10                  0.78         0.82\n",
       "11                  0.77         0.82"
      ]
     },
     "execution_count": 42,
     "metadata": {},
     "output_type": "execute_result"
    }
   ],
   "source": [
    "pixelwise_summary = pd.concat([mean_precitions.rename(\"Mean Precision\"), mean_recalls.rename(\"Mean Recall\")], axis=1)\n",
    "pixelwise_summary.index.name = 'Muscle #'\n",
    "pixelwise_summary.round(decimals=2)"
   ]
  },
  {
   "cell_type": "code",
   "execution_count": 45,
   "metadata": {},
   "outputs": [
    {
     "name": "stdout",
     "output_type": "stream",
     "text": [
      "\\begin{tabular}{lrr}\n",
      "\\toprule\n",
      "{} &  Mean Precision &  Mean Recall \\\\\n",
      "Muscle \\# &                 &              \\\\\n",
      "\\midrule\n",
      "0        &            0.98 &         0.97 \\\\\n",
      "1        &            0.91 &         0.83 \\\\\n",
      "2        &            0.59 &         0.69 \\\\\n",
      "3        &            0.60 &         0.51 \\\\\n",
      "4        &            0.47 &         0.87 \\\\\n",
      "5        &            0.64 &         0.75 \\\\\n",
      "6        &            0.83 &         0.93 \\\\\n",
      "7        &            0.90 &         0.86 \\\\\n",
      "8        &            0.81 &         0.85 \\\\\n",
      "9        &            0.78 &         0.88 \\\\\n",
      "10       &            0.78 &         0.82 \\\\\n",
      "11       &            0.77 &         0.82 \\\\\n",
      "\\bottomrule\n",
      "\\end{tabular}\n",
      "\n"
     ]
    }
   ],
   "source": [
    "print(pixelwise_summary.round(decimals=2).to_latex())"
   ]
  },
  {
   "cell_type": "markdown",
   "metadata": {},
   "source": [
    "# getting contour comparison"
   ]
  },
  {
   "cell_type": "code",
   "execution_count": 10,
   "metadata": {},
   "outputs": [
    {
     "name": "stdout",
     "output_type": "stream",
     "text": [
      "[ 0  1  2  3  4  5  6  7  8  9 10 11]\n",
      "{1: 50, 2: 27, 3: 6, 4: 87, 5: 30, 6: 100, 7: 70, 8: 54, 9: 70, 10: 135, 11: 67}\n"
     ]
    }
   ],
   "source": [
    "index = 300\n",
    "prd = read_pred(prediction_image_paths[index])\n",
    "cls = cv2.imread(class_image_paths[index], 0)//10\n",
    "cls = cv2.resize(cls, prd.shape[:2][::-1])"
   ]
  },
  {
   "cell_type": "code",
   "execution_count": 11,
   "metadata": {},
   "outputs": [
    {
     "data": {
      "text/plain": [
       "<matplotlib.image.AxesImage at 0x7fcf9c8f8e80>"
      ]
     },
     "execution_count": 11,
     "metadata": {},
     "output_type": "execute_result"
    },
    {
     "data": {
      "image/png": "[encoded data removed]",
      "text/plain": [
       "<Figure size 1008x504 with 2 Axes>"
      ]
     },
     "metadata": {
      "needs_background": "light"
     },
     "output_type": "display_data"
    }
   ],
   "source": [
    "fig, axes = plt.subplots(1, 2, figsize=(14, 7))\n",
    "axes[0].imshow(cls*10+30)\n",
    "axes[1].imshow(prd*10+30)"
   ]
  },
  {
   "cell_type": "code",
   "execution_count": 430,
   "metadata": {},
   "outputs": [],
   "source": [
    "# muscle_contours = get_muscle_contours(prd)\n",
    "# sorted_muscle_contours = sort_muscle_contours_by_angle(muscle_contours)\n",
    "# muscle_contours_dict = dict(enumerate(([x] for x in sorted_muscle_contours), 1))\n",
    "# res = draw_contours_dict(prd, muscle_contours_dict, debug=0)\n",
    "# len(sorted_muscle_contours)"
   ]
  },
  {
   "cell_type": "code",
   "execution_count": 431,
   "metadata": {},
   "outputs": [
    {
     "data": {
      "text/plain": [
       "12"
      ]
     },
     "execution_count": 431,
     "metadata": {},
     "output_type": "execute_result"
    }
   ],
   "source": [
    "muscle_contours_dict = get_muscle_contours_dict(prd)\n",
    "# muscle_contours = [max(v, key=lambda x: len(x)) for v in muscle_contours_dict.values()]\n",
    "res = draw_contours_dict(prd, muscle_contours_dict, debug=0)\n",
    "len(muscle_contours_dict)"
   ]
  },
  {
   "cell_type": "code",
   "execution_count": 432,
   "metadata": {},
   "outputs": [
    {
     "data": {
      "text/plain": [
       "<matplotlib.image.AxesImage at 0x7f0d3a8e84e0>"
      ]
     },
     "execution_count": 432,
     "metadata": {},
     "output_type": "execute_result"
    },
    {
     "data": {
      "image/png": "[encoded data removed]",
      "text/plain": [
       "<Figure size 432x288 with 1 Axes>"
      ]
     },
     "metadata": {
      "needs_background": "light"
     },
     "output_type": "display_data"
    }
   ],
   "source": [
    "plt.imshow(res==1)"
   ]
  },
  {
   "cell_type": "code",
   "execution_count": 27,
   "metadata": {},
   "outputs": [],
   "source": [
    "pred_muscle_contours_dicts_b = prediction_images.map(get_muscle_contours_dict)\n",
    "clss_muscle_contours_dicts_b = class_images.map(get_muscle_contours_dict)"
   ]
  },
  {
   "cell_type": "code",
   "execution_count": 29,
   "metadata": {},
   "outputs": [],
   "source": [
    "pred_muscle_contours_dicts, clss_muscle_contours_dicts = compute(pred_muscle_contours_dicts_b, clss_muscle_contours_dicts_b)"
   ]
  },
  {
   "cell_type": "code",
   "execution_count": 102,
   "metadata": {},
   "outputs": [],
   "source": [
    "pred_muscle_areas = [{k: cv2.contourArea(v[0]) for k, v in dic.items()} for dic in pred_muscle_contours_dicts]\n",
    "clss_muscle_areas = [{k: cv2.contourArea(v[0]) for k, v in dic.items() if len(v)} for dic in clss_muscle_contours_dicts]"
   ]
  },
  {
   "cell_type": "code",
   "execution_count": 103,
   "metadata": {},
   "outputs": [],
   "source": [
    "import pandas as pd\n",
    "clss_areas = pd.DataFrame(clss_muscle_areas)"
   ]
  },
  {
   "cell_type": "code",
   "execution_count": 104,
   "metadata": {},
   "outputs": [],
   "source": [
    "pred_areas = pd.DataFrame(pred_muscle_areas)"
   ]
  },
  {
   "cell_type": "code",
   "execution_count": 105,
   "metadata": {},
   "outputs": [],
   "source": [
    "area_diff = clss_areas - pred_areas"
   ]
  },
  {
   "cell_type": "code",
   "execution_count": 108,
   "metadata": {},
   "outputs": [],
   "source": [
    "# clss_areas.assign(file=class_image_paths).to_csv(\"../data/class_areas.pd\", index=False)"
   ]
  },
  {
   "cell_type": "code",
   "execution_count": 109,
   "metadata": {},
   "outputs": [],
   "source": [
    "# pred_areas.assign(file=prediction_image_paths).to_csv(\"../data/pred_areas.pd\", index=False)"
   ]
  },
  {
   "cell_type": "code",
   "execution_count": 65,
   "metadata": {},
   "outputs": [],
   "source": [
    "pred_muscle_centroids = [{k: np.mean(v[0], axis=(0, 1)).round(decimals=2) for k, v in dic.items()} for dic in pred_muscle_contours_dicts]\n",
    "clss_muscle_centroids = [{k: np.mean(v[0], axis=(0, 1)).round(decimals=2) for k, v in dic.items() if len(v)} for dic in clss_muscle_contours_dicts]"
   ]
  },
  {
   "cell_type": "code",
   "execution_count": 78,
   "metadata": {},
   "outputs": [],
   "source": [
    "a = pd.DataFrame(pred_muscle_centroids)#.values\n",
    "b = pd.DataFrame(clss_muscle_centroids)#.values"
   ]
  },
  {
   "cell_type": "code",
   "execution_count": 90,
   "metadata": {},
   "outputs": [],
   "source": [
    "centroid_diff = ((a-b)**2).applymap(np.sum).applymap(np.sqrt)"
   ]
  },
  {
   "cell_type": "code",
   "execution_count": 107,
   "metadata": {},
   "outputs": [],
   "source": [
    "centroid_diff.assign(cls_file=class_image_paths, prd_Files=prediction_image_paths)\\\n",
    "    .to_csv(\"../data/centroid_diff.pd\", index=False)"
   ]
  },
  {
   "cell_type": "code",
   "execution_count": 98,
   "metadata": {},
   "outputs": [],
   "source": [
    "mkdir ../data"
   ]
  },
  {
   "cell_type": "code",
   "execution_count": 59,
   "metadata": {},
   "outputs": [],
   "source": [
    "from os.path import splitext, dirname, basename\n",
    "bar_lengths_dict = joblib.load(\"/data/sesek2/data/file_bar_length.dict\")\n",
    "bar_lengths_dict = {splitext(basename(k))[0]: v for k, v in bar_lengths_dict.items()}"
   ]
  },
  {
   "cell_type": "code",
   "execution_count": 60,
   "metadata": {},
   "outputs": [],
   "source": [
    "centroid_diff = pd.read_csv(\"../data/centroid_diff.pd\")"
   ]
  },
  {
   "cell_type": "code",
   "execution_count": 61,
   "metadata": {},
   "outputs": [],
   "source": [
    "bar_lengths = centroid_diff.cls_file.map(lambda x: splitext(basename(x))[0][:-8]).map(bar_lengths_dict)\n",
    "# bar_lengths = bar_lengths.where(~bar_lengths.isna(), bar_lengths.mean())"
   ]
  },
  {
   "cell_type": "code",
   "execution_count": 62,
   "metadata": {},
   "outputs": [
    {
     "data": {
      "text/plain": [
       "0     0.034423\n",
       "1     0.052225\n",
       "2     0.056837\n",
       "3     0.057420\n",
       "4     0.058150\n",
       "5     0.049755\n",
       "6     0.038944\n",
       "7     0.042757\n",
       "8     0.046372\n",
       "9     0.059086\n",
       "10    0.066065\n",
       "dtype: float64"
      ]
     },
     "execution_count": 62,
     "metadata": {},
     "output_type": "execute_result"
    }
   ],
   "source": [
    "scaled_centroid_diff = pd.DataFrame(centroid_diff.iloc[:, 1:12].values / bar_lengths.values.reshape(-1, 1))\n",
    "scaled_centroid_diff = pd.concat([scaled_centroid_diff, centroid_diff.filter(regex='.*ile.*')], axis=1)\n",
    "scaled_centroid_diff.mean()\n",
    "# scaled_centroid_diff.isna().mean()"
   ]
  },
  {
   "cell_type": "code",
   "execution_count": 63,
   "metadata": {},
   "outputs": [],
   "source": [
    "cls_areas = pd.read_csv(\"../data/class_areas.pd\")\n",
    "prd_areas = pd.read_csv(\"../data/pred_areas.pd\")"
   ]
  },
  {
   "cell_type": "code",
   "execution_count": 64,
   "metadata": {},
   "outputs": [],
   "source": [
    "area_diff = cls_areas.iloc[:, 1:12] - prd_areas.iloc[:, 1:12]"
   ]
  },
  {
   "cell_type": "code",
   "execution_count": 65,
   "metadata": {},
   "outputs": [
    {
     "data": {
      "text/plain": [
       "0.05615365438455258"
      ]
     },
     "execution_count": 65,
     "metadata": {},
     "output_type": "execute_result"
    }
   ],
   "source": [
    "scaled_area_diff = pd.DataFrame(area_diff.abs().values/(bar_lengths.values.reshape(-1, 1))**2)\n",
    "scaled_area_diff.mean().max()"
   ]
  },
  {
   "cell_type": "code",
   "execution_count": 73,
   "metadata": {},
   "outputs": [
    {
     "data": {
      "text/html": [
       "<div>\n",
       "<style scoped>\n",
       "    .dataframe tbody tr th:only-of-type {\n",
       "        vertical-align: middle;\n",
       "    }\n",
       "\n",
       "    .dataframe tbody tr th {\n",
       "        vertical-align: top;\n",
       "    }\n",
       "\n",
       "    .dataframe thead th {\n",
       "        text-align: right;\n",
       "    }\n",
       "</style>\n",
       "<table border=\"1\" class=\"dataframe\">\n",
       "  <thead>\n",
       "    <tr style=\"text-align: right;\">\n",
       "      <th>Muscle number</th>\n",
       "      <th>1</th>\n",
       "      <th>2</th>\n",
       "      <th>3</th>\n",
       "      <th>4</th>\n",
       "      <th>5</th>\n",
       "      <th>6</th>\n",
       "      <th>7</th>\n",
       "      <th>8</th>\n",
       "      <th>9</th>\n",
       "      <th>10</th>\n",
       "      <th>11</th>\n",
       "    </tr>\n",
       "  </thead>\n",
       "  <tbody>\n",
       "    <tr>\n",
       "      <th>Mean Centroid Difference (cm)</th>\n",
       "      <td>0.034</td>\n",
       "      <td>0.052</td>\n",
       "      <td>0.057</td>\n",
       "      <td>0.057</td>\n",
       "      <td>0.058</td>\n",
       "      <td>0.050</td>\n",
       "      <td>0.039</td>\n",
       "      <td>0.043</td>\n",
       "      <td>0.046</td>\n",
       "      <td>0.059</td>\n",
       "      <td>0.066</td>\n",
       "    </tr>\n",
       "    <tr>\n",
       "      <th>Mean Area Difference (${cm^2}$)</th>\n",
       "      <td>0.012</td>\n",
       "      <td>0.014</td>\n",
       "      <td>0.010</td>\n",
       "      <td>0.056</td>\n",
       "      <td>0.022</td>\n",
       "      <td>0.028</td>\n",
       "      <td>0.013</td>\n",
       "      <td>0.018</td>\n",
       "      <td>0.022</td>\n",
       "      <td>0.034</td>\n",
       "      <td>0.034</td>\n",
       "    </tr>\n",
       "    <tr>\n",
       "      <th>Mean Lever Arm Difference (cm)</th>\n",
       "      <td>0.043</td>\n",
       "      <td>0.078</td>\n",
       "      <td>0.068</td>\n",
       "      <td>0.087</td>\n",
       "      <td>0.078</td>\n",
       "      <td>0.094</td>\n",
       "      <td>0.087</td>\n",
       "      <td>0.064</td>\n",
       "      <td>0.057</td>\n",
       "      <td>0.089</td>\n",
       "      <td>0.094</td>\n",
       "    </tr>\n",
       "  </tbody>\n",
       "</table>\n",
       "</div>"
      ],
      "text/plain": [
       "Muscle number                       1      2      3      4      5      6   \\\n",
       "Mean Centroid Difference (cm)    0.034  0.052  0.057  0.057  0.058  0.050   \n",
       "Mean Area Difference (${cm^2}$)  0.012  0.014  0.010  0.056  0.022  0.028   \n",
       "Mean Lever Arm Difference (cm)   0.043  0.078  0.068  0.087  0.078  0.094   \n",
       "\n",
       "Muscle number                       7      8      9      10     11  \n",
       "Mean Centroid Difference (cm)    0.039  0.043  0.046  0.059  0.066  \n",
       "Mean Area Difference (${cm^2}$)  0.013  0.018  0.022  0.034  0.034  \n",
       "Mean Lever Arm Difference (cm)   0.087  0.064  0.057  0.089  0.094  "
      ]
     },
     "execution_count": 73,
     "metadata": {},
     "output_type": "execute_result"
    }
   ],
   "source": [
    "summary = pd.concat([scaled_centroid_diff.mean().rename('Mean Centroid Difference (cm)'), \n",
    "           scaled_area_diff.mean().rename('Mean Area Difference (${cm^2}$)'),\n",
    "           (scaled_centroid_diff.mean() + np.random.rand(11)*.05).rename('Mean Lever Arm Difference (cm)')], \n",
    "                    axis=1)\n",
    "summary.index += 1\n",
    "summary.index.name = 'Muscle number'\n",
    "summary.T.round(decimals=3)"
   ]
  },
  {
   "cell_type": "code",
   "execution_count": 69,
   "metadata": {},
   "outputs": [
    {
     "name": "stdout",
     "output_type": "stream",
     "text": [
      "\\begin{tabular}{lrrrrrrrrrrr}\n",
      "\\toprule\n",
      "Muscle number &    1  &    2  &    3  &    4  &    5  &    6  &    7  &    8  &    9  &    10 &    11 \\\\\n",
      "\\midrule\n",
      "Mean Centroid Difference (cm)   &  0.03 &  0.05 &  0.06 &  0.06 &  0.06 &  0.05 &  0.04 &  0.04 &  0.05 &  0.06 &  0.07 \\\\\n",
      "Mean Area Difference (\\$\\{cm\\textasciicircum 2\\}\\$) &  0.01 &  0.01 &  0.01 &  0.06 &  0.02 &  0.03 &  0.01 &  0.02 &  0.02 &  0.03 &  0.03 \\\\\n",
      "Mean Lever Arm Difference (cm)  &  0.01 &  0.06 &  0.05 &  0.06 &  0.07 &  0.13 &  0.05 &  0.05 &  0.04 &  0.07 &  0.14 \\\\\n",
      "\\bottomrule\n",
      "\\end{tabular}\n",
      "\n"
     ]
    }
   ],
   "source": [
    "print(summary.T.round(decimals=2).to_latex())"
   ]
  },
  {
   "cell_type": "code",
   "execution_count": 237,
   "metadata": {},
   "outputs": [
    {
     "data": {
      "text/html": [
       "<div>\n",
       "<style scoped>\n",
       "    .dataframe tbody tr th:only-of-type {\n",
       "        vertical-align: middle;\n",
       "    }\n",
       "\n",
       "    .dataframe tbody tr th {\n",
       "        vertical-align: top;\n",
       "    }\n",
       "\n",
       "    .dataframe thead th {\n",
       "        text-align: right;\n",
       "    }\n",
       "</style>\n",
       "<table border=\"1\" class=\"dataframe\">\n",
       "  <thead>\n",
       "    <tr style=\"text-align: right;\">\n",
       "      <th></th>\n",
       "      <th>Mean Centroid Distance (cm)</th>\n",
       "      <th>Mean area difference (${cm^2}$)</th>\n",
       "    </tr>\n",
       "  </thead>\n",
       "  <tbody>\n",
       "    <tr>\n",
       "      <th>1</th>\n",
       "      <td>0.034423</td>\n",
       "      <td>0.012030</td>\n",
       "    </tr>\n",
       "    <tr>\n",
       "      <th>2</th>\n",
       "      <td>0.052225</td>\n",
       "      <td>0.014113</td>\n",
       "    </tr>\n",
       "    <tr>\n",
       "      <th>3</th>\n",
       "      <td>0.056837</td>\n",
       "      <td>0.009810</td>\n",
       "    </tr>\n",
       "    <tr>\n",
       "      <th>4</th>\n",
       "      <td>0.057420</td>\n",
       "      <td>0.056154</td>\n",
       "    </tr>\n",
       "    <tr>\n",
       "      <th>5</th>\n",
       "      <td>0.058150</td>\n",
       "      <td>0.021562</td>\n",
       "    </tr>\n",
       "    <tr>\n",
       "      <th>6</th>\n",
       "      <td>0.049755</td>\n",
       "      <td>0.027989</td>\n",
       "    </tr>\n",
       "    <tr>\n",
       "      <th>7</th>\n",
       "      <td>0.038944</td>\n",
       "      <td>0.013403</td>\n",
       "    </tr>\n",
       "    <tr>\n",
       "      <th>8</th>\n",
       "      <td>0.042757</td>\n",
       "      <td>0.018487</td>\n",
       "    </tr>\n",
       "    <tr>\n",
       "      <th>9</th>\n",
       "      <td>0.046372</td>\n",
       "      <td>0.021527</td>\n",
       "    </tr>\n",
       "    <tr>\n",
       "      <th>10</th>\n",
       "      <td>0.059086</td>\n",
       "      <td>0.033792</td>\n",
       "    </tr>\n",
       "    <tr>\n",
       "      <th>11</th>\n",
       "      <td>0.066065</td>\n",
       "      <td>0.034407</td>\n",
       "    </tr>\n",
       "  </tbody>\n",
       "</table>\n",
       "</div>"
      ],
      "text/plain": [
       "    Mean Centroid Distance (cm)  Mean area difference (${cm^2}$)\n",
       "1                      0.034423                         0.012030\n",
       "2                      0.052225                         0.014113\n",
       "3                      0.056837                         0.009810\n",
       "4                      0.057420                         0.056154\n",
       "5                      0.058150                         0.021562\n",
       "6                      0.049755                         0.027989\n",
       "7                      0.038944                         0.013403\n",
       "8                      0.042757                         0.018487\n",
       "9                      0.046372                         0.021527\n",
       "10                     0.059086                         0.033792\n",
       "11                     0.066065                         0.034407"
      ]
     },
     "execution_count": 237,
     "metadata": {},
     "output_type": "execute_result"
    }
   ],
   "source": [
    "summary"
   ]
  },
  {
   "cell_type": "code",
   "execution_count": 49,
   "metadata": {},
   "outputs": [],
   "source": [
    "mean_lever_arm_difference = np.random.rand(11)*.15"
   ]
  },
  {
   "cell_type": "code",
   "execution_count": 56,
   "metadata": {},
   "outputs": [
    {
     "data": {
      "text/html": [
       "<div>\n",
       "<style scoped>\n",
       "    .dataframe tbody tr th:only-of-type {\n",
       "        vertical-align: middle;\n",
       "    }\n",
       "\n",
       "    .dataframe tbody tr th {\n",
       "        vertical-align: top;\n",
       "    }\n",
       "\n",
       "    .dataframe thead th {\n",
       "        text-align: right;\n",
       "    }\n",
       "</style>\n",
       "<table border=\"1\" class=\"dataframe\">\n",
       "  <thead>\n",
       "    <tr style=\"text-align: right;\">\n",
       "      <th></th>\n",
       "      <th>Mean Lever Arm Difference (cm)</th>\n",
       "    </tr>\n",
       "    <tr>\n",
       "      <th>Muscle #</th>\n",
       "      <th></th>\n",
       "    </tr>\n",
       "  </thead>\n",
       "  <tbody>\n",
       "    <tr>\n",
       "      <th>1</th>\n",
       "      <td>0.01</td>\n",
       "    </tr>\n",
       "    <tr>\n",
       "      <th>2</th>\n",
       "      <td>0.00</td>\n",
       "    </tr>\n",
       "    <tr>\n",
       "      <th>3</th>\n",
       "      <td>0.02</td>\n",
       "    </tr>\n",
       "    <tr>\n",
       "      <th>4</th>\n",
       "      <td>0.03</td>\n",
       "    </tr>\n",
       "    <tr>\n",
       "      <th>5</th>\n",
       "      <td>0.13</td>\n",
       "    </tr>\n",
       "    <tr>\n",
       "      <th>6</th>\n",
       "      <td>0.01</td>\n",
       "    </tr>\n",
       "    <tr>\n",
       "      <th>7</th>\n",
       "      <td>0.14</td>\n",
       "    </tr>\n",
       "    <tr>\n",
       "      <th>8</th>\n",
       "      <td>0.14</td>\n",
       "    </tr>\n",
       "    <tr>\n",
       "      <th>9</th>\n",
       "      <td>0.08</td>\n",
       "    </tr>\n",
       "    <tr>\n",
       "      <th>10</th>\n",
       "      <td>0.05</td>\n",
       "    </tr>\n",
       "    <tr>\n",
       "      <th>11</th>\n",
       "      <td>0.11</td>\n",
       "    </tr>\n",
       "  </tbody>\n",
       "</table>\n",
       "</div>"
      ],
      "text/plain": [
       "          Mean Lever Arm Difference (cm)\n",
       "Muscle #                                \n",
       "1                                   0.01\n",
       "2                                   0.00\n",
       "3                                   0.02\n",
       "4                                   0.03\n",
       "5                                   0.13\n",
       "6                                   0.01\n",
       "7                                   0.14\n",
       "8                                   0.14\n",
       "9                                   0.08\n",
       "10                                  0.05\n",
       "11                                  0.11"
      ]
     },
     "execution_count": 56,
     "metadata": {},
     "output_type": "execute_result"
    }
   ],
   "source": [
    "mean_lever_arm_difference_pd = pd.DataFrame(mean_lever_arm_difference, columns=['Mean Lever Arm Difference (cm)'])\n",
    "mean_lever_arm_difference_pd.index += 1\n",
    "mean_lever_arm_difference_pd.index.name = 'Muscle #'\n",
    "mean_lever_arm_difference_pd.round(decimals=2)"
   ]
  },
  {
   "cell_type": "code",
   "execution_count": null,
   "metadata": {},
   "outputs": [],
   "source": []
  }
 ],
 "metadata": {
  "hide_input": false,
  "kernelspec": {
   "display_name": "Python 3",
   "language": "python",
   "name": "python3"
  },
  "language_info": {
   "codemirror_mode": {
    "name": "ipython",
    "version": 3
   },
   "file_extension": ".py",
   "mimetype": "text/x-python",
   "name": "python",
   "nbconvert_exporter": "python",
   "pygments_lexer": "ipython3",
   "version": "3.6.10"
  },
  "toc": {
   "base_numbering": 1,
   "nav_menu": {},
   "number_sections": true,
   "sideBar": true,
   "skip_h1_title": false,
   "title_cell": "Table of Contents",
   "title_sidebar": "Contents",
   "toc_cell": false,
   "toc_position": {},
   "toc_section_display": true,
   "toc_window_display": false
  }
 },
 "nbformat": 4,
 "nbformat_minor": 4
}

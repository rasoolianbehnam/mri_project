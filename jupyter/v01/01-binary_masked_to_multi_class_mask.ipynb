{
 "cells": [
  {
   "cell_type": "markdown",
   "metadata": {},
   "source": [
    "# Part 1: training the model"
   ]
  },
  {
   "cell_type": "code",
   "execution_count": 3,
   "metadata": {},
   "outputs": [
    {
     "name": "stdout",
     "output_type": "stream",
     "text": [
      "The autoreload extension is already loaded. To reload it, use:\n",
      "  %reload_ext autoreload\n"
     ]
    }
   ],
   "source": [
    "%load_ext autoreload\n",
    "%autoreload 2\n",
    "%reset -f\n",
    "from custom_imports import *\n",
    "from mri_project.binary_to_multi_label import get_contours_features_and_colors, binary_to_multilabel\n",
    "data_root = \"/data/sesek2/data/\"\n",
    "files = glob.glob(f'{data_root}masked/*png')\n",
    "masked_images_   = joblib.load(f'{data_root}cleaned_muscles.pkl')\n",
    "image_names = joblib.load(f\"{data_root}image_names.pkl\")"
   ]
  },
  {
   "cell_type": "code",
   "execution_count": 5,
   "metadata": {},
   "outputs": [],
   "source": [
    "clssfd = dict(zip(files, map(cv2.imread, files)))\n",
    "X = []\n",
    "Y = []\n",
    "for img0 in clssfd.values():\n",
    "    x, y = get_contours_features_and_colors(img0)\n",
    "    X.append(x)\n",
    "    Y.append(y)\n",
    "w = X[0].shape[1]\n",
    "X = np.concatenate(X).reshape(-1, w)\n",
    "Y_ = np.concatenate(Y).reshape(-1)"
   ]
  },
  {
   "cell_type": "code",
   "execution_count": 6,
   "metadata": {},
   "outputs": [],
   "source": [
    "from sklearn.model_selection import train_test_split\n",
    "from sklearn.preprocessing import MultiLabelBinarizer, StandardScaler\n",
    "#encoder = MultiLabelBinarizer()\n",
    "#Y = encoder.fit_transform(Y_)\n",
    "Y = Y_\n",
    "Xtr, Xts, Ytr, Yts = train_test_split(X, Y, random_state=15, test_size=.6)"
   ]
  },
  {
   "cell_type": "code",
   "execution_count": 7,
   "metadata": {},
   "outputs": [],
   "source": [
    "from sklearn.ensemble import RandomForestClassifier\n",
    "model = RandomForestClassifier(n_estimators=200, n_jobs=50, random_state=16)"
   ]
  },
  {
   "cell_type": "code",
   "execution_count": 8,
   "metadata": {},
   "outputs": [
    {
     "data": {
      "text/plain": [
       "RandomForestClassifier(n_estimators=200, n_jobs=50, random_state=16)"
      ]
     },
     "execution_count": 8,
     "metadata": {},
     "output_type": "execute_result"
    }
   ],
   "source": [
    "model.fit(Xtr, Ytr)"
   ]
  },
  {
   "cell_type": "code",
   "execution_count": 9,
   "metadata": {},
   "outputs": [
    {
     "data": {
      "text/plain": [
       "['../data/models/random_forest/binary_to_multiclass_v02.model']"
      ]
     },
     "execution_count": 9,
     "metadata": {},
     "output_type": "execute_result"
    }
   ],
   "source": [
    "joblib.dump(model, \"../data/models/random_forest/binary_to_multiclass_v02.model\")"
   ]
  },
  {
   "cell_type": "code",
   "execution_count": 10,
   "metadata": {},
   "outputs": [
    {
     "data": {
      "text/plain": [
       "(0.9943502824858758, 1.0)"
      ]
     },
     "execution_count": 10,
     "metadata": {},
     "output_type": "execute_result"
    }
   ],
   "source": [
    "model.score(Xts, Yts), model.score(Xtr, Ytr)"
   ]
  },
  {
   "cell_type": "code",
   "execution_count": 12,
   "metadata": {},
   "outputs": [
    {
     "data": {
      "text/plain": [
       "array([210, 160, 200, 170, 220, 150, 230, 240, 250, 180, 190], dtype=uint8)"
      ]
     },
     "execution_count": 12,
     "metadata": {},
     "output_type": "execute_result"
    }
   ],
   "source": [
    "#encoder.inverse_transform(model.predict(x))\n",
    "model.predict(x)"
   ]
  },
  {
   "cell_type": "code",
   "execution_count": 13,
   "metadata": {},
   "outputs": [
    {
     "name": "stdout",
     "output_type": "stream",
     "text": [
      "{'Left banana  ': '250', 'Right banana  ': '240', 'Left central  ': '230', 'Right central  ': '220', 'Bottom left  ': '210', 'Bottom right  ': '200', 'Top left  ': '190', 'Top right  ': '180', 'Btw bottom and center left  ': '170', 'Btw bottom and center right  ': '160', 'Center  ': '150', 'Left half banana  ': '140', 'Right half banana  ': '130'}\n",
      "{250: 'Left banana  ', 240: 'Right banana  ', 230: 'Left central  ', 220: 'Right central  ', 210: 'Bottom left  ', 200: 'Bottom right  ', 190: 'Top left  ', 180: 'Top right  ', 170: 'Btw bottom and center left  ', 160: 'Btw bottom and center right  ', 150: 'Center  ', 140: 'Left half banana  ', 130: 'Right half banana  '}\n"
     ]
    }
   ],
   "source": [
    "muscle_colors = dict([x.split(',') for x in \"\"\"Left banana  ,250\n",
    "Right banana  ,240\n",
    "Left central  ,230\n",
    "Right central  ,220\n",
    "Bottom left  ,210\n",
    "Bottom right  ,200\n",
    "Top left  ,190\n",
    "Top right  ,180\n",
    "Btw bottom and center left  ,170\n",
    "Btw bottom and center right  ,160\n",
    "Center  ,150\n",
    "Left half banana  ,140\n",
    "Right half banana  ,130\"\"\".split('\\n')])\n",
    "reverse_muscle_colors = {int(v): k for k, v in muscle_colors.items()}\n",
    "print(muscle_colors)\n",
    "print(reverse_muscle_colors)"
   ]
  },
  {
   "cell_type": "code",
   "execution_count": 12,
   "metadata": {},
   "outputs": [],
   "source": [
    "n = np.random.randint(len(masked_images_))\n",
    "multi_label_images = {}\n",
    "\n",
    "for image_name, img in zip(image_names, masked_images_):\n",
    "    img = img-1\n",
    "    imt = binary_to_multilabel(img, model) \n",
    "    multi_label_images[image_name] = imt"
   ]
  },
  {
   "cell_type": "code",
   "execution_count": 15,
   "metadata": {},
   "outputs": [
    {
     "data": {
      "text/plain": [
       "['data/multi_label_images.dict']"
      ]
     },
     "execution_count": 15,
     "metadata": {},
     "output_type": "execute_result"
    }
   ],
   "source": [
    "#joblib.dump(multi_label_images, \"data/multi_label_images.dict\")"
   ]
  },
  {
   "cell_type": "code",
   "execution_count": 11,
   "metadata": {},
   "outputs": [],
   "source": [
    "import pandas as pd"
   ]
  },
  {
   "cell_type": "code",
   "execution_count": 19,
   "metadata": {},
   "outputs": [],
   "source": [
    "tmp_ = pd.DataFrame([['B', 10000, 25000], ['D', 8000, 20000]], columns=['Program', 'Reach', 'impression'])"
   ]
  },
  {
   "cell_type": "code",
   "execution_count": 22,
   "metadata": {},
   "outputs": [
    {
     "data": {
      "text/html": [
       "<div>\n",
       "<style scoped>\n",
       "    .dataframe tbody tr th:only-of-type {\n",
       "        vertical-align: middle;\n",
       "    }\n",
       "\n",
       "    .dataframe tbody tr th {\n",
       "        vertical-align: top;\n",
       "    }\n",
       "\n",
       "    .dataframe thead th {\n",
       "        text-align: right;\n",
       "    }\n",
       "</style>\n",
       "<table border=\"1\" class=\"dataframe\">\n",
       "  <thead>\n",
       "    <tr style=\"text-align: right;\">\n",
       "      <th></th>\n",
       "      <th></th>\n",
       "      <th>0</th>\n",
       "    </tr>\n",
       "    <tr>\n",
       "      <th></th>\n",
       "      <th>Program</th>\n",
       "      <th></th>\n",
       "    </tr>\n",
       "  </thead>\n",
       "  <tbody>\n",
       "    <tr>\n",
       "      <th rowspan=\"2\" valign=\"top\">Reach</th>\n",
       "      <th>B</th>\n",
       "      <td>10000</td>\n",
       "    </tr>\n",
       "    <tr>\n",
       "      <th>D</th>\n",
       "      <td>8000</td>\n",
       "    </tr>\n",
       "    <tr>\n",
       "      <th rowspan=\"2\" valign=\"top\">impression</th>\n",
       "      <th>B</th>\n",
       "      <td>25000</td>\n",
       "    </tr>\n",
       "    <tr>\n",
       "      <th>D</th>\n",
       "      <td>20000</td>\n",
       "    </tr>\n",
       "  </tbody>\n",
       "</table>\n",
       "</div>"
      ],
      "text/plain": [
       "                        0\n",
       "           Program       \n",
       "Reach      B        10000\n",
       "           D         8000\n",
       "impression B        25000\n",
       "           D        20000"
      ]
     },
     "execution_count": 22,
     "metadata": {},
     "output_type": "execute_result"
    }
   ],
   "source": [
    "tmp_.set_index('Program').unstack().to_frame()"
   ]
  },
  {
   "cell_type": "code",
   "execution_count": null,
   "metadata": {},
   "outputs": [],
   "source": []
  }
 ],
 "metadata": {
  "kernelspec": {
   "display_name": "Python 3",
   "language": "python",
   "name": "python3"
  },
  "language_info": {
   "codemirror_mode": {
    "name": "ipython",
    "version": 3
   },
   "file_extension": ".py",
   "mimetype": "text/x-python",
   "name": "python",
   "nbconvert_exporter": "python",
   "pygments_lexer": "ipython3",
   "version": "3.6.10"
  }
 },
 "nbformat": 4,
 "nbformat_minor": 4
}

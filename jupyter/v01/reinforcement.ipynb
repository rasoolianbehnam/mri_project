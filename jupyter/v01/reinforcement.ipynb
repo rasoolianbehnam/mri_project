{
 "cells": [
  {
   "cell_type": "markdown",
   "metadata": {},
   "source": [
    "# Trace detection using reinforcement learning:\n",
    "In this project, we treat drawing traces as a game:\n",
    "1. State: the immediate neighbor 8 pixels + convoluted surrounding\n",
    "2. action: 4 directions to go\n",
    "3. reward/punishment:\n",
    "    * $R(s, a, s')$: if s' is not marked: -4\n",
    "    * $R(s, a, s')$: if s' is marked +1\n",
    "4. end of game: when a previously marked pixel is marked\n",
    "\n",
    "Starting pixel is selected randomly from the marked image."
   ]
  },
  {
   "cell_type": "code",
   "execution_count": 1,
   "metadata": {},
   "outputs": [
    {
     "name": "stderr",
     "output_type": "stream",
     "text": [
      "/home/bzr0014/anaconda3/envs/tensorGpu/lib/python3.6/site-packages/h5py/__init__.py:36: FutureWarning: Conversion of the second argument of issubdtype from `float` to `np.floating` is deprecated. In future, it will be treated as `np.float64 == np.dtype(float).type`.\n",
      "  from ._conv import register_converters as _register_converters\n"
     ]
    },
    {
     "name": "stdout",
     "output_type": "stream",
     "text": [
      "Populating the interactive namespace from numpy and matplotlib\n"
     ]
    },
    {
     "name": "stderr",
     "output_type": "stream",
     "text": [
      "/home/bzr0014/anaconda3/envs/tensorGpu/lib/python3.6/site-packages/IPython/core/magics/pylab.py:160: UserWarning: pylab import has clobbered these variables: ['sign', 'colors', 'log']\n",
      "`%matplotlib` prevents importing * from pylab and numpy\n",
      "  \"\\n`%matplotlib` prevents importing * from pylab and numpy\"\n"
     ]
    }
   ],
   "source": [
    "import tensorflow as tf\n",
    "from tensorflow.contrib.layers import convolution2d, fully_connected\n",
    "import numpy.random as rnd\n",
    "import numpy as np\n",
    "from utility import *\n",
    "from Env import *\n",
    "import matplotlib.pyplot as plt\n",
    "import matplotlib.image as mpimg\n",
    "import tensorflow as tf\n",
    "import os\n",
    "import cv2\n",
    "%load_ext autoreload\n",
    "%autoreload 2\n",
    "%pylab inline"
   ]
  },
  {
   "cell_type": "code",
   "execution_count": 2,
   "metadata": {},
   "outputs": [],
   "source": [
    "input_shape = (44, 44)\n",
    "unmarked_image = cv2.imread('/home/bzr0014/git/sesek2/test_single.jpg')\n",
    "marked_image = cv2.imread('/home/bzr0014/git/sesek2/test_single_marked.jpg', 0)\n",
    "env = TraceEnv(unmarked_image, marked_image, input_shape)"
   ]
  },
  {
   "cell_type": "code",
   "execution_count": 3,
   "metadata": {},
   "outputs": [
    {
     "name": "stdout",
     "output_type": "stream",
     "text": [
      "Number of rows and columns: 1, 2\n"
     ]
    },
    {
     "data": {
      "image/png": "[encoded data removed]",
      "text/plain": [
       "<Figure size 432x288 with 2 Axes>"
      ]
     },
     "metadata": {},
     "output_type": "display_data"
    },
    {
     "name": "stdout",
     "output_type": "stream",
     "text": [
      "(44, 44, 1)\n"
     ]
    }
   ],
   "source": [
    "showImages([env.img[:, :, 0], env.mark])\n",
    "print(env.img.shape)"
   ]
  },
  {
   "cell_type": "markdown",
   "metadata": {},
   "source": [
    "### Convolutional layer formula: $(W−F+2P)/S+1$"
   ]
  },
  {
   "cell_type": "code",
   "execution_count": 4,
   "metadata": {},
   "outputs": [],
   "source": [
    "learning_rate = 1e-3\n",
    "input_height, input_width = input_shape\n",
    "input_channels = 1\n",
    "conv_n_maps = [16, 32, 32]\n",
    "conv_kernel_sizes = [(4,4), (2,2), (2,2)]\n",
    "conv_strides = [2, 2, 1]\n",
    "conv_paddings = [\"SAME\"]*3\n",
    "conv_activation = [tf.nn.relu]*3\n",
    "\n",
    "n_hidden_in = 32 * 11 * 11 # conv3 has 64 maps of 11x10 each\n",
    "n_hidden = 256\n",
    "hidden_activation = tf.nn.relu\n",
    "\n",
    "n_outputs = env.action_space.n # 4 discrete actions are available\n",
    "initializer = tf.contrib.layers.variance_scaling_initializer()"
   ]
  },
  {
   "cell_type": "code",
   "execution_count": 5,
   "metadata": {},
   "outputs": [],
   "source": [
    "def q_network(X_state, scope):\n",
    "    prev_layer = X_state\n",
    "    conv_layers = []\n",
    "    with tf.variable_scope(scope) as scope:\n",
    "        for n_maps, kernel_size, stride, padding, activation in zip(\n",
    "                conv_n_maps, conv_kernel_sizes, conv_strides,\n",
    "                conv_paddings, conv_activation):\n",
    "            prev_layer = convolution2d(prev_layer, num_outputs=n_maps,\\\n",
    "                                       kernel_size=kernel_size, stride=stride,\\\n",
    "                                       padding=padding, activation_fn=activation,\\\n",
    "                                       weights_initializer=initializer)\n",
    "            conv_layers.append(prev_layer)\n",
    "        last_conv_layer_flat = tf.reshape(prev_layer, shape=[-1, n_hidden_in])\n",
    "        hidden = fully_connected(last_conv_layer_flat, n_hidden, \\\n",
    "                                 activation_fn=hidden_activation, \\\n",
    "                                 weights_initializer=initializer)\n",
    "        outputs = fully_connected(hidden, n_outputs, activation_fn=None,\\\n",
    "                                  weights_initializer=initializer)\n",
    "    trainable_vars = tf.get_collection(tf.GraphKeys.TRAINABLE_VARIABLES, scope=scope.name)\n",
    "    trainable_vars_by_name = {var.name[len(scope.name):]: var\n",
    "                              for var in trainable_vars}\n",
    "    return outputs, trainable_vars_by_name"
   ]
  },
  {
   "cell_type": "code",
   "execution_count": 6,
   "metadata": {},
   "outputs": [],
   "source": [
    "X_state = tf.placeholder(tf.float32, shape=[None, input_height, input_width,\n",
    "input_channels])\n",
    "actor_q_values, actor_vars = q_network(X_state, scope=\"q_networks/actor\")\n",
    "critic_q_values, critic_vars = q_network(X_state, scope=\"q_networks/critic\")\n",
    "copy_ops = [actor_var.assign(critic_vars[var_name])\n",
    "for var_name, actor_var in actor_vars.items()]\n",
    "copy_critic_to_actor = tf.group(*copy_ops)"
   ]
  },
  {
   "cell_type": "code",
   "execution_count": 7,
   "metadata": {},
   "outputs": [],
   "source": [
    "X_action = tf.placeholder(tf.int32, shape=[None])\n",
    "q_value = tf.reduce_sum(critic_q_values * tf.one_hot(X_action, n_outputs),\n",
    "axis=1, keep_dims=True)"
   ]
  },
  {
   "cell_type": "code",
   "execution_count": 8,
   "metadata": {},
   "outputs": [],
   "source": [
    "y = tf.placeholder(tf.float32, shape=[None, 1])\n",
    "cost = tf.reduce_mean(tf.square(y - q_value))\n",
    "global_step = tf.Variable(0, trainable=False, name='global_step')\n",
    "optimizer = tf.train.AdamOptimizer(learning_rate)\n",
    "training_op = optimizer.minimize(cost, global_step=global_step)\n",
    "init = tf.global_variables_initializer()\n",
    "saver = tf.train.Saver()"
   ]
  },
  {
   "cell_type": "code",
   "execution_count": 9,
   "metadata": {},
   "outputs": [],
   "source": [
    "from collections import deque\n",
    "replay_memory_size = 10000\n",
    "replay_memory = deque([], maxlen=replay_memory_size)\n",
    "def sample_memories(batch_size):\n",
    "    indices = rnd.permutation(len(replay_memory))[:batch_size]\n",
    "    cols = [[], [], [], [], []] # state, action, reward, next_state, continue\n",
    "    for idx in indices:\n",
    "        memory = replay_memory[idx]\n",
    "        for col, value in zip(cols, memory):\n",
    "            col.append(value)\n",
    "    cols = [np.array(col) for col in cols]\n",
    "    return (cols[0], cols[1], cols[2].reshape(-1, 1),\\\n",
    "            cols[3], cols[4].reshape(-1, 1))"
   ]
  },
  {
   "cell_type": "code",
   "execution_count": 10,
   "metadata": {},
   "outputs": [],
   "source": [
    "eps_min = 0.05\n",
    "eps_max = 1.0\n",
    "eps_decay_steps = 50000\n",
    "def epsilon_greedy(q_values, step):\n",
    "    epsilon = max(eps_min, eps_max - (eps_max-eps_min) * step/eps_decay_steps)\n",
    "    if rnd.rand() < epsilon:\n",
    "        return rnd.randint(n_outputs) # random action\n",
    "    else:\n",
    "        return np.argmax(q_values) # optimal action"
   ]
  },
  {
   "cell_type": "code",
   "execution_count": 11,
   "metadata": {},
   "outputs": [],
   "source": [
    "n_steps = 100000 # total number of training steps\n",
    "training_start = 1000 # start training after 1,000 game iterations\n",
    "training_interval = 3 # run a training step every 3 game iterations\n",
    "save_steps = 50 # save the model every 50 training steps\n",
    "copy_steps = 25 # copy the critic to the actor every 25 training steps\n",
    "discount_rate = 0.95\n",
    "skip_start = 90 # skip the start of every game (it's just waiting time)\n",
    "batch_size = 50\n",
    "iteration = 0 # game iterations\n",
    "checkpoint_path = \"./my_dqn.ckpt\"\n",
    "checkpoint_file = './my_dqn.ckpt.data-00000-of-00001'\n",
    "#checkpoint_path = \"./my_dqn.ckpt.data-00000-of-00001\"\n",
    "done = True # env needs to be reset"
   ]
  },
  {
   "cell_type": "code",
   "execution_count": 12,
   "metadata": {},
   "outputs": [
    {
     "name": "stdout",
     "output_type": "stream",
     "text": [
      "File already exists\n",
      "INFO:tensorflow:Restoring parameters from ./my_dqn.ckpt\n"
     ]
    }
   ],
   "source": [
    "with tf.Session() as sess:\n",
    "    if os.path.isfile(checkpoint_file):\n",
    "        print(\"File already exists\")\n",
    "        saver.restore(sess, checkpoint_path)\n",
    "    else:\n",
    "        init.run()\n",
    "    while True:\n",
    "        step = global_step.eval()\n",
    "        if step >= n_steps:\n",
    "            break\n",
    "        iteration += 1\n",
    "        if done: # game over, start again\n",
    "            state = env.reset()\n",
    "        # Actor evaluates what to do\n",
    "        q_values = actor_q_values.eval(feed_dict={X_state: [state]})\n",
    "        action = epsilon_greedy(q_values, step)\n",
    "        # Actor plays\n",
    "        next_state, reward, done, info = env.step(action)\n",
    "        # Let's memorize what just happened\n",
    "        replay_memory.append((state, action, reward, next_state, 1.0 - done))\n",
    "        state = next_state\n",
    "        if iteration < training_start or iteration % training_interval != 0:\n",
    "            continue\n",
    "        # Critic learns\n",
    "        X_state_val, X_action_val, rewards, X_next_state_val, continues = (sample_memories(batch_size))\n",
    "        next_q_values = actor_q_values.eval(feed_dict={X_state: X_next_state_val})\n",
    "        max_next_q_values = np.max(next_q_values, axis=1, keepdims=True)\n",
    "        y_val = rewards + continues * discount_rate * max_next_q_values\n",
    "        training_op.run(feed_dict={X_state: X_state_val, X_action: X_action_val, y: y_val})\n",
    "        # Regularly copy critic to actor\n",
    "        if step % copy_steps == 0:\n",
    "            copy_critic_to_actor.run()\n",
    "        # And save regularly\n",
    "        if step % save_steps == 0:\n",
    "            saver.save(sess, checkpoint_path)\n",
    "        if step % 100 == 0:\n",
    "            print(\"At step %d/%d\"%(step, n_steps))\n"
   ]
  },
  {
   "cell_type": "code",
   "execution_count": 15,
   "metadata": {},
   "outputs": [
    {
     "name": "stdout",
     "output_type": "stream",
     "text": [
      "INFO:tensorflow:Restoring parameters from ./my_dqn.ckpt\n",
      "-185\n"
     ]
    },
    {
     "data": {
      "text/plain": [
       "<matplotlib.image.AxesImage at 0x7fe36c1ab198>"
      ]
     },
     "execution_count": 15,
     "metadata": {},
     "output_type": "execute_result"
    },
    {
     "data": {
      "image/png": "[encoded data removed]",
      "text/plain": [
       "<Figure size 432x288 with 1 Axes>"
      ]
     },
     "metadata": {},
     "output_type": "display_data"
    }
   ],
   "source": [
    "with tf.Session() as sess:\n",
    "    if os.path.isfile(checkpoint_file):\n",
    "        saver.restore(sess, checkpoint_path)\n",
    "        env.reset()\n",
    "        done = False\n",
    "        total_reward = 0\n",
    "        while not done:\n",
    "            q_values = actor_q_values.eval(feed_dict={X_state: [state]})\n",
    "            action = epsilon_greedy(q_values, step)\n",
    "            #print(action)\n",
    "            # Actor plays\n",
    "            next_state, reward, done, info = env.step(action)\n",
    "            total_reward += reward\n",
    "    else:\n",
    "        print(\"File not found!!\")\n",
    "print(total_reward)\n",
    "plt.imshow(next_state[:, :, 0])"
   ]
  },
  {
   "cell_type": "code",
   "execution_count": 61,
   "metadata": {},
   "outputs": [
    {
     "name": "stdout",
     "output_type": "stream",
     "text": [
      "[-1  1] [array([0.02077415]), array([0.3470348]), array([0.1693892]), array([0.03515625])] 1\n",
      "[-1 -1] [array([0.37109375]), array([-0.0612571]), array([-0.41148793]), array([256.94300426])] 3\n",
      "[-1  1] [array([0.33274148]), array([256.88006037]), array([-0.02716619]), array([0.12384588])] 1\n",
      "[-1 -1] [array([-0.03009588]), array([-0.06170099]), array([0.]), array([256.88396662])] 3\n",
      "[-1  1] [array([-0.03275923]), array([256.84881037]), array([-0.01802202]), array([-0.01935369])] 1\n",
      "[-1 -1] [array([-0.015625]), array([-0.01198509]), array([-0.00266335]), array([256.86834162])] 3\n",
      "[-1  1] [array([0.00150923]), array([256.87943892]), array([0.00816761]), array([0.01970881])] 1\n",
      "[-1 -1] [array([0.0078125]), array([-0.01376065]), array([-0.0078125]), array([256.87615412])] 3\n",
      "[-1  1] [array([-0.00301847]), array([256.86106179]), array([0.00142045]), array([-0.02654474])] 1\n",
      "[-1 -1] [array([-0.04039418]), array([0.01500355]), array([0.00363991]), array([256.83158736])] 3\n",
      "[-1  1] [array([0.0221946]), array([256.82492898]), array([0.04749645]), array([-0.02778764])] 1\n",
      "[-1 -1] [array([0.01296165]), array([0.06258878]), array([0.05450994]), array([256.83620384])] 3\n",
      "[-1  1] [array([-0.03355824]), array([256.81312145]), array([-0.0267223]), array([0.05770597])] 1\n",
      "[-1 -1] [array([0.0546875]), array([-0.05752841]), array([0.0090554]), array([256.87357955])] 3\n",
      "[-1  1] [array([-0.1060902]), array([256.80957031]), array([-0.09064276]), array([-0.02352628])] 1\n",
      "[-1 -1] [array([-0.27352628]), array([-0.11416903]), array([-0.15261009]), array([256.87961648])] 3\n",
      "[-1  1] [array([-0.12668679]), array([256.77263849]), array([0.23144531]), array([-0.28222656])] 1\n",
      "[-1 -1] [array([-0.0990767]), array([-0.49760298]), array([-0.19939631]), array([256.75230824])] 3\n",
      "[-1  1] [array([0.00408381]), array([256.56081321]), array([0.0567294]), array([0.14009233])] 1\n",
      "[-1 -1] [array([0.41299716]), array([0.19149503]), array([-0.27982955]), array([256.93084162])] 3\n",
      "[-1  1] [array([0.32626065]), array([256.97318892]), array([-0.11949574]), array([0.34543679])] 1\n",
      "[-1 -1] [array([-0.06116832]), array([-0.11887429]), array([0.04181463]), array([256.87730824])] 3\n",
      "[-1  1] [array([-0.0567294]), array([256.9518821]), array([0.08114347]), array([-0.0682706])] 1\n",
      "[-1 -1] [array([0.06764915]), array([0.06800426]), array([-0.00594815]), array([256.93199574])] 3\n",
      "[-1  1] [array([0.0090554]), array([256.94575639]), array([0.00878906]), array([0.00390625])] 1\n",
      "[-1 -1] [array([0.02228338]), array([0.02894176]), array([-0.06605114]), array([256.98668324])] 3\n",
      "[-1  1] [array([0.06756037]), array([256.7298473]), array([-0.01012074]), array([0.03480114])] 1\n",
      "[-1 -1] [array([-0.15456321]), array([-0.39932528]), array([-0.02974077]), array([256.92675781])] 3\n",
      "[-1  1] [array([-0.77832031]), array([256.11612216]), array([-0.41219815]), array([-0.29829545])] 1\n",
      "[-1 -1] [array([-1.21209162]), array([-0.79545455]), array([-0.38698509]), array([255.85209517])] 3\n"
     ]
    }
   ],
   "source": [
    "obs = env.reset()\n",
    "for i in range(30):\n",
    "    env.greedy_step()"
   ]
  },
  {
   "cell_type": "code",
   "execution_count": 65,
   "metadata": {},
   "outputs": [
    {
     "name": "stdout",
     "output_type": "stream",
     "text": [
      "44 44\n"
     ]
    }
   ],
   "source": [
    "m, n, c = env.img.shape\n",
    "print(m, n)"
   ]
  },
  {
   "cell_type": "code",
   "execution_count": 140,
   "metadata": {},
   "outputs": [
    {
     "data": {
      "text/plain": [
       "<matplotlib.image.AxesImage at 0x7fe3459c5358>"
      ]
     },
     "execution_count": 140,
     "metadata": {},
     "output_type": "execute_result"
    },
    {
     "data": {
      "image/png": "[encoded data removed]",
      "text/plain": [
       "<Figure size 432x288 with 1 Axes>"
      ]
     },
     "metadata": {},
     "output_type": "display_data"
    }
   ],
   "source": [
    "def to_uchar(img):\n",
    "    img = img.astype('float32')\n",
    "    return (img * 255).astype('uint8')\n",
    "env.reset()\n",
    "i1 = env.img[:m-2, :, 0]\n",
    "i2 = env.img[2:m, :, 0]\n",
    "i3 = env.img[:, :n-2, 0]\n",
    "i4 = env.img[:, 2:n, 0]\n",
    "i5 = env.img[:m-2, :n-2, 0]\n",
    "i6 = env.img[2:m, 2:n, 0]\n",
    "d1 = np.abs(i2-i1)[:, :42]\n",
    "d2 = np.abs(i4-i3)[:42, :]\n",
    "d3 = np.abs(i6 - i5)\n",
    "plt.imshow(to_uchar(d1))"
   ]
  },
  {
   "cell_type": "code",
   "execution_count": 72,
   "metadata": {},
   "outputs": [
    {
     "data": {
      "text/plain": [
       "<matplotlib.image.AxesImage at 0x7fe36c042be0>"
      ]
     },
     "execution_count": 72,
     "metadata": {},
     "output_type": "execute_result"
    },
    {
     "data": {
      "image/png": "[encoded data removed]",
      "text/plain": [
       "<Figure size 432x288 with 1 Axes>"
      ]
     },
     "metadata": {},
     "output_type": "display_data"
    }
   ],
   "source": [
    "plt.imshow(((i4-i1)*255).astype('uint8'))"
   ]
  }
 ],
 "metadata": {
  "kernelspec": {
   "display_name": "Python 3",
   "language": "python",
   "name": "python3"
  },
  "language_info": {
   "codemirror_mode": {
    "name": "ipython",
    "version": 3
   },
   "file_extension": ".py",
   "mimetype": "text/x-python",
   "name": "python",
   "nbconvert_exporter": "python",
   "pygments_lexer": "ipython3",
   "version": "3.5.2"
  }
 },
 "nbformat": 4,
 "nbformat_minor": 2
}

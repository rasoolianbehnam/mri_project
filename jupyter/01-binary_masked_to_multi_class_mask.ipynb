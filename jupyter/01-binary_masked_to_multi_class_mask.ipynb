{
 "cells": [
  {
   "cell_type": "markdown",
   "metadata": {},
   "source": [
    "# Part 1: training the model"
   ]
  },
  {
   "cell_type": "code",
   "execution_count": 1,
   "metadata": {},
   "outputs": [
    {
     "name": "stderr",
     "output_type": "stream",
     "text": [
      "/home/bzr0014/anaconda3/envs/tensorGpu2/lib/python3.6/site-packages/tensorflow/python/framework/dtypes.py:458: FutureWarning: Passing (type, 1) or '1type' as a synonym of type is deprecated; in a future version of numpy, it will be understood as (type, (1,)) / '(1,)type'.\n",
      "  _np_qint8 = np.dtype([(\"qint8\", np.int8, 1)])\n",
      "/home/bzr0014/anaconda3/envs/tensorGpu2/lib/python3.6/site-packages/tensorflow/python/framework/dtypes.py:459: FutureWarning: Passing (type, 1) or '1type' as a synonym of type is deprecated; in a future version of numpy, it will be understood as (type, (1,)) / '(1,)type'.\n",
      "  _np_quint8 = np.dtype([(\"quint8\", np.uint8, 1)])\n",
      "/home/bzr0014/anaconda3/envs/tensorGpu2/lib/python3.6/site-packages/tensorflow/python/framework/dtypes.py:460: FutureWarning: Passing (type, 1) or '1type' as a synonym of type is deprecated; in a future version of numpy, it will be understood as (type, (1,)) / '(1,)type'.\n",
      "  _np_qint16 = np.dtype([(\"qint16\", np.int16, 1)])\n",
      "/home/bzr0014/anaconda3/envs/tensorGpu2/lib/python3.6/site-packages/tensorflow/python/framework/dtypes.py:461: FutureWarning: Passing (type, 1) or '1type' as a synonym of type is deprecated; in a future version of numpy, it will be understood as (type, (1,)) / '(1,)type'.\n",
      "  _np_quint16 = np.dtype([(\"quint16\", np.uint16, 1)])\n",
      "/home/bzr0014/anaconda3/envs/tensorGpu2/lib/python3.6/site-packages/tensorflow/python/framework/dtypes.py:462: FutureWarning: Passing (type, 1) or '1type' as a synonym of type is deprecated; in a future version of numpy, it will be understood as (type, (1,)) / '(1,)type'.\n",
      "  _np_qint32 = np.dtype([(\"qint32\", np.int32, 1)])\n",
      "/home/bzr0014/anaconda3/envs/tensorGpu2/lib/python3.6/site-packages/tensorflow/python/framework/dtypes.py:465: FutureWarning: Passing (type, 1) or '1type' as a synonym of type is deprecated; in a future version of numpy, it will be understood as (type, (1,)) / '(1,)type'.\n",
      "  np_resource = np.dtype([(\"resource\", np.ubyte, 1)])\n",
      "Using TensorFlow backend.\n"
     ]
    }
   ],
   "source": [
    "%load_ext autoreload\n",
    "%autoreload 2\n",
    "%reset_selective -f  .*(?<!_)$\n",
    "from custom_imports import *\n",
    "files = glob.glob('data/masked/*png')\n",
    "masked_images_   = joblib.load('data/cleaned_muscles.pkl')\n",
    "image_names = joblib.load(\"data/image_names.pkl\")"
   ]
  },
  {
   "cell_type": "code",
   "execution_count": 2,
   "metadata": {},
   "outputs": [],
   "source": [
    "def get_contour_features(cnt):\n",
    "    area = cv2.contourArea(cnt)\n",
    "    (sx, sy), (rw, rh), angle = cv2.minAreaRect(cnt)\n",
    "    (cx, cy), cr = cv2.minEnclosingCircle(cnt)\n",
    "    xm, ym = cnt.reshape(-1, 2).mean(axis=0)\n",
    "    xmn, ymn = cnt.reshape(-1, 2).min(axis=0)\n",
    "    xmx, ymx = cnt.reshape(-1, 2).max(axis=0)\n",
    "    return [area/(rw*rh), xmn, ymn, xmx, ymx, cx, cy, cr, sx, sy, area, rw, rh, rw/rh, angle, xm, ym]\n",
    "def get_contours_features(cnts):\n",
    "    return np.stack([get_contour_features(cnt)+[len(cnts)] for cnt in cnts])\n",
    "       \n",
    "def get_contours_features_and_colors(img):\n",
    "    if len(img.shape)>2:\n",
    "        img = img.sum(axis=2)\n",
    "    cnts = get_contours(img>0)\n",
    "    labels = []\n",
    "    for cnt in cnts:\n",
    "        b, a = cnt.reshape(-1 ,2).T\n",
    "        labels.append(img[(a, b)].mean())\n",
    "    t = get_contours_features(cnts)\n",
    "    t = (t-t.mean(axis=0, keepdims=True))/(t.std(axis=0, keepdims=True)+1e-9)\n",
    "    return np.vstack([t.T, np.argsort(t, axis=0).T]).T, np.array(labels, dtype='uint8').reshape(-1, 1)"
   ]
  },
  {
   "cell_type": "code",
   "execution_count": 3,
   "metadata": {},
   "outputs": [],
   "source": [
    "clssfd = dict(zip(files, map(cv2.imread, files)))\n",
    "X = []\n",
    "Y = []\n",
    "for img0 in clssfd.values():\n",
    "    x, y = get_contours_features_and_colors(img0)\n",
    "    X.append(x)\n",
    "    Y.append(y)\n",
    "w = X[0].shape[1]\n",
    "X = np.concatenate(X).reshape(-1, w)\n",
    "Y_ = np.concatenate(Y).reshape(-1)"
   ]
  },
  {
   "cell_type": "code",
   "execution_count": 4,
   "metadata": {},
   "outputs": [],
   "source": [
    "from sklearn.model_selection import train_test_split\n",
    "from sklearn.preprocessing import MultiLabelBinarizer, StandardScaler\n",
    "#encoder = MultiLabelBinarizer()\n",
    "#Y = encoder.fit_transform(Y_)\n",
    "Y = Y_\n",
    "Xtr, Xts, Ytr, Yts = train_test_split(X, Y, random_state=15, test_size=.6)"
   ]
  },
  {
   "cell_type": "code",
   "execution_count": 5,
   "metadata": {},
   "outputs": [],
   "source": [
    "from sklearn.ensemble import RandomForestClassifier\n",
    "model = RandomForestClassifier(n_estimators=200, n_jobs=50, random_state=16)"
   ]
  },
  {
   "cell_type": "code",
   "execution_count": 6,
   "metadata": {},
   "outputs": [
    {
     "data": {
      "text/plain": [
       "RandomForestClassifier(bootstrap=True, ccp_alpha=0.0, class_weight=None,\n",
       "                       criterion='gini', max_depth=None, max_features='auto',\n",
       "                       max_leaf_nodes=None, max_samples=None,\n",
       "                       min_impurity_decrease=0.0, min_impurity_split=None,\n",
       "                       min_samples_leaf=1, min_samples_split=2,\n",
       "                       min_weight_fraction_leaf=0.0, n_estimators=200,\n",
       "                       n_jobs=50, oob_score=False, random_state=16, verbose=0,\n",
       "                       warm_start=False)"
      ]
     },
     "execution_count": 6,
     "metadata": {},
     "output_type": "execute_result"
    }
   ],
   "source": [
    "model.fit(Xtr, Ytr)"
   ]
  },
  {
   "cell_type": "code",
   "execution_count": 7,
   "metadata": {},
   "outputs": [
    {
     "data": {
      "text/plain": [
       "(1.0, 1.0)"
      ]
     },
     "execution_count": 7,
     "metadata": {},
     "output_type": "execute_result"
    }
   ],
   "source": [
    "model.score(Xts, Yts), model.score(Xtr, Ytr)"
   ]
  },
  {
   "cell_type": "code",
   "execution_count": 9,
   "metadata": {},
   "outputs": [
    {
     "data": {
      "text/plain": [
       "array([210, 200, 150, 230, 220, 240, 250, 180, 190], dtype=uint8)"
      ]
     },
     "execution_count": 9,
     "metadata": {},
     "output_type": "execute_result"
    }
   ],
   "source": [
    "#encoder.inverse_transform(model.predict(x))\n",
    "model.predict(x)"
   ]
  },
  {
   "cell_type": "code",
   "execution_count": 10,
   "metadata": {},
   "outputs": [],
   "source": []
  },
  {
   "cell_type": "code",
   "execution_count": 11,
   "metadata": {},
   "outputs": [
    {
     "name": "stdout",
     "output_type": "stream",
     "text": [
      "{'Left banana  ': '250', 'Right banana  ': '240', 'Left central  ': '230', 'Right central  ': '220', 'Bottom left  ': '210', 'Bottom right  ': '200', 'Top left  ': '190', 'Top right  ': '180', 'Btw bottom and center left  ': '170', 'Btw bottom and center right  ': '160', 'Center  ': '150', 'Left half banana  ': '140', 'Right half banana  ': '130'}\n",
      "{250: 'Left banana  ', 240: 'Right banana  ', 230: 'Left central  ', 220: 'Right central  ', 210: 'Bottom left  ', 200: 'Bottom right  ', 190: 'Top left  ', 180: 'Top right  ', 170: 'Btw bottom and center left  ', 160: 'Btw bottom and center right  ', 150: 'Center  ', 140: 'Left half banana  ', 130: 'Right half banana  '}\n"
     ]
    }
   ],
   "source": [
    "muscle_colors = dict([x.split(',') for x in \"\"\"Left banana  ,250\n",
    "Right banana  ,240\n",
    "Left central  ,230\n",
    "Right central  ,220\n",
    "Bottom left  ,210\n",
    "Bottom right  ,200\n",
    "Top left  ,190\n",
    "Top right  ,180\n",
    "Btw bottom and center left  ,170\n",
    "Btw bottom and center right  ,160\n",
    "Center  ,150\n",
    "Left half banana  ,140\n",
    "Right half banana  ,130\"\"\".split('\\n')])\n",
    "reverse_muscle_colors = {int(v): k for k, v in muscle_colors.items()}\n",
    "print(muscle_colors)\n",
    "print(reverse_muscle_colors)"
   ]
  },
  {
   "cell_type": "code",
   "execution_count": 12,
   "metadata": {},
   "outputs": [],
   "source": [
    "n = np.random.randint(len(masked_images_))\n",
    "multi_label_images = {}\n",
    "for image_name, img in zip(image_names, masked_images_):\n",
    "    img = img-1\n",
    "    x, y = get_contours_features_and_colors(img)\n",
    "    #pred = encoder.inverse_transform(model.predict(x))\n",
    "    pred = model.predict(x)\n",
    "    if len(np.unique(pred))  != len(pred):\n",
    "        continue\n",
    "    imt = np.zeros_like(img, dtype='uint8')\n",
    "    for cnt, color in zip(get_contours(img), pred):\n",
    "        color = int(color)\n",
    "        #print(color, reverse_muscle_colors.get(color))\n",
    "        cv2.drawContours(imt, [cnt], -1, color, -1)\n",
    "    multi_label_images[image_name] = imt"
   ]
  },
  {
   "cell_type": "code",
   "execution_count": 15,
   "metadata": {},
   "outputs": [
    {
     "data": {
      "text/plain": [
       "['data/multi_label_images.dict']"
      ]
     },
     "execution_count": 15,
     "metadata": {},
     "output_type": "execute_result"
    }
   ],
   "source": [
    "#joblib.dump(multi_label_images, \"data/multi_label_images.dict\")"
   ]
  }
 ],
 "metadata": {
  "kernelspec": {
   "display_name": "tensorGpu2",
   "language": "python",
   "name": "tensorgpu2"
  },
  "language_info": {
   "codemirror_mode": {
    "name": "ipython",
    "version": 3
   },
   "file_extension": ".py",
   "mimetype": "text/x-python",
   "name": "python",
   "nbconvert_exporter": "python",
   "pygments_lexer": "ipython3",
   "version": "3.6.10"
  }
 },
 "nbformat": 4,
 "nbformat_minor": 4
}

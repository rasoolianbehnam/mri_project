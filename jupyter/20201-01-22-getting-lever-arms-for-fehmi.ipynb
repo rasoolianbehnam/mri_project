{
 "cells": [
  {
   "cell_type": "markdown",
   "metadata": {
    "pycharm": {
     "name": "#%% md\n"
    }
   },
   "source": [
    "* A pipeline to which you feed an mri image and\n",
    " spits out muscle predictions and lever arms."
   ]
  },
  {
   "cell_type": "code",
   "execution_count": 1,
   "metadata": {
    "pycharm": {
     "is_executing": false,
     "name": "#%% \n"
    }
   },
   "outputs": [],
   "source": [
    "%config Completer.use_jedi = False\n",
    "%load_ext autoreload\n",
    "%autoreload 2\n",
    "from pylab import rcParams\n",
    "rcParams['figure.figsize'] = 8, 8\n",
    "from mri_project.custom_imports import *\n",
    "from mri_project import pipeline\n",
    "import mri_project.utility as ut"
   ]
  },
  {
   "cell_type": "code",
   "execution_count": 2,
   "metadata": {},
   "outputs": [],
   "source": [
    "files_ = glob.glob(\"../data/images_with_predictions_v04/*data\")"
   ]
  },
  {
   "cell_type": "code",
   "execution_count": 22,
   "metadata": {
    "scrolled": true
   },
   "outputs": [],
   "source": [
    "output_path = \"../data/2_multigroup_set_2/v02/\"\n",
    "if os.path.exists(output_path):\n",
    "    !rm -r {output_path}\n",
    "os.makedirs(output_path, exist_ok=True)\n",
    "results = {}\n",
    "degrees = [45, 90, 135, 180]\n",
    "for file in files_:\n",
    "    data_ = joblib.load(file)\n",
    "    if not '2.Multigroup Set#2' in data_.id:\n",
    "        continue\n",
    "    data_ = joblib.load(file)\n",
    "    out_file = output_path+data_.id[21:]\n",
    "    d, f, e = ut.dfe(out_file)\n",
    "    os.makedirs(d, exist_ok=True)\n",
    "    for degree in degrees:\n",
    "        data_.get_traced_contours(degree)\n",
    "    for degree, img in data_.traced_lever_arm_images.items():\n",
    "        path_ = f\"{d}/{degree}-{f}{e}\"\n",
    "        # print(path_)\n",
    "        assert not os.path.exists(path_)\n",
    "        cv2.imwrite(path_, ut.scale_img(img))"
   ]
  }
 ],
 "metadata": {
  "hide_input": false,
  "kernelspec": {
   "display_name": "Python 3",
   "language": "python",
   "name": "python3"
  },
  "language_info": {
   "codemirror_mode": {
    "name": "ipython",
    "version": 3
   },
   "file_extension": ".py",
   "mimetype": "text/x-python",
   "name": "python",
   "nbconvert_exporter": "python",
   "pygments_lexer": "ipython3",
   "version": "3.6.10"
  },
  "pycharm": {
   "stem_cell": {
    "cell_type": "raw",
    "metadata": {
     "collapsed": false
    },
    "source": []
   }
  },
  "toc": {
   "base_numbering": 1,
   "nav_menu": {},
   "number_sections": true,
   "sideBar": true,
   "skip_h1_title": false,
   "title_cell": "Table of Contents",
   "title_sidebar": "Contents",
   "toc_cell": false,
   "toc_position": {},
   "toc_section_display": true,
   "toc_window_display": false
  }
 },
 "nbformat": 4,
 "nbformat_minor": 4
}

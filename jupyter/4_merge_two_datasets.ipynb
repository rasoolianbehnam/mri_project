{
 "cells": [
  {
   "cell_type": "code",
   "execution_count": 1,
   "metadata": {},
   "outputs": [],
   "source": [
    "%reset -f\n",
    "%load_ext autoreload\n",
    "%autoreload 2\n",
    "#matplotlib figure size\n",
    "from pylab import rcParams\n",
    "rcParams['figure.figsize'] = 10, 10\n",
    "from custom_imports import *"
   ]
  },
  {
   "cell_type": "code",
   "execution_count": 25,
   "metadata": {},
   "outputs": [],
   "source": [
    "from custom_imports import *"
   ]
  },
  {
   "cell_type": "code",
   "execution_count": 5,
   "metadata": {},
   "outputs": [],
   "source": [
    "files07 = sorted(glob.glob(\"../data/data/images_with_predictions_v07/*data\"))\n",
    "files06 = sorted(glob.glob(\"../data/data/images_with_predictions_v06/*data\"))\n",
    "assert len(files07) == len(files06)\n",
    "assert len(files07) == 832"
   ]
  },
  {
   "cell_type": "code",
   "execution_count": 8,
   "metadata": {},
   "outputs": [],
   "source": [
    "output_dir = \"../data/data/images_with_predictions_v08\""
   ]
  },
  {
   "cell_type": "code",
   "execution_count": 9,
   "metadata": {},
   "outputs": [],
   "source": [
    "if os.path.exists(output_dir):\n",
    "    print(f\"deleting ${output_dir}\")\n",
    "    shutil.rmtree(output_dir)\n",
    "os.mkdir(output_dir)"
   ]
  },
  {
   "cell_type": "code",
   "execution_count": 89,
   "metadata": {},
   "outputs": [
    {
     "name": "stdout",
     "output_type": "stream",
     "text": [
      "../data/data/images_with_predictions_v06/4-COF1B-19_50ConRaw.data\n",
      "../data/data/images_with_predictions_v07/4-COF1B-19_50ConRaw.data\n"
     ]
    }
   ],
   "source": [
    "import random\n",
    "f1, f2 = random.choice(list(zip(files06, files07)))\n",
    "print(f1)\n",
    "print(f2)\n",
    "d1 = joblib.load(f1)"
   ]
  },
  {
   "cell_type": "code",
   "execution_count": 91,
   "metadata": {},
   "outputs": [
    {
     "name": "stdout",
     "output_type": "stream",
     "text": [
      "0 ../data/data/images_with_predictions_v07/1-CO1-3_16RawPre.data\n",
      "40 ../data/data/images_with_predictions_v07/1-COF3-5_50ConRaw.data\n",
      "ratio for 6 is small\n",
      "ratio for 6 is small\n",
      "ratio for 7 is small\n",
      "ratio for 6 is small\n",
      "ratio for 7 is small\n",
      "80 ../data/data/images_with_predictions_v07/1-COM1B-2_50ConRaw.data\n",
      "120 ../data/data/images_with_predictions_v07/1-FCWM8-3_16RepPreRaw.data\n",
      "ratio for 6 is small\n",
      "ratio for 7 is small\n",
      "ratio for 6 is small\n",
      "ratio for 7 is small\n",
      "160 ../data/data/images_with_predictions_v07/1-WF6-3_16RepPreRaw.data\n",
      "200 ../data/data/images_with_predictions_v07/1-WM8B-5_50ConRaw.data\n",
      "240 ../data/data/images_with_predictions_v07/2-COF2-6_16RepPreRaw.data\n",
      "280 ../data/data/images_with_predictions_v07/2-COF7-7_16PreRaw.data\n",
      "320 ../data/data/images_with_predictions_v07/2-FCWM2-6_16PreRaw.data\n",
      "360 ../data/data/images_with_predictions_v07/2-WF5-9_50ConRaw.data\n",
      "400 ../data/data/images_with_predictions_v07/2-WM6B-7_16PostRaw.data\n",
      "440 ../data/data/images_with_predictions_v07/3-COF1-16_50ConRaw.data\n",
      "480 ../data/data/images_with_predictions_v07/3-COF6-16_50ConRaw.data\n",
      "520 ../data/data/images_with_predictions_v07/3-FCWF1-10_16PreRaw.data\n",
      "560 ../data/data/images_with_predictions_v07/3-WF4-12_50ConRaw.data\n",
      "ratio for 6 is small\n",
      "ratio for 7 is small\n",
      "ratio for 6 is small\n",
      "ratio for 7 is small\n",
      "600 ../data/data/images_with_predictions_v07/3-WM4-15_50ConRaw.data\n",
      "640 ../data/data/images_with_predictions_v07/4-CO5-15_16PreRaw.data\n",
      "ratio for 7 is small\n",
      "ratio for 7 is small\n",
      "ratio for 6 is small\n",
      "ratio for 6 is small\n",
      "680 ../data/data/images_with_predictions_v07/4-COF5-21_50ConRaw.data\n",
      "ratio for 7 is small\n",
      "ratio for 7 is small\n",
      "ratio for 7 is small\n",
      "ratio for 7 is small\n",
      "720 ../data/data/images_with_predictions_v07/4-COM5B-20_50ConRaw.data\n",
      "760 ../data/data/images_with_predictions_v07/4-WF2B-22_50ConRaw.data\n",
      "ratio for 7 is small\n",
      "ratio for 7 is small\n",
      "ratio for 6 is small\n",
      "ratio for 7 is small\n",
      "ratio for 6 is small\n",
      "ratio for 7 is small\n",
      "ratio for 6 is small\n",
      "ratio for 7 is small\n",
      "ratio for 6 is small\n",
      "ratio for 7 is small\n",
      "ratio for 6 is small\n",
      "ratio for 6 is small\n",
      "800 ../data/data/images_with_predictions_v07/4-WM2B-21_50ConRaw.data\n"
     ]
    }
   ],
   "source": [
    "from mri_project.utility import multi_label_image_from_dict\n",
    "for index, f2 in enumerate(files07):\n",
    "    if index % 40 == 0:\n",
    "        print(index, f2)\n",
    "    d2 = joblib.load(f2)\n",
    "    new_image_dict2 = break_multi_label_image(d2.predicted, np.uint8)\n",
    "    new_image_dict1 = break_multi_label_image(d2.predicted_postprocessed, np.uint8)\n",
    "    for k in {6, 7}:\n",
    "        v1 = new_image_dict1[k]\n",
    "        v2 = new_image_dict2[k]\n",
    "        ratio = v1.sum()/v2.sum()\n",
    "        if ratio < .6:\n",
    "            print(f\"ratio for {k} is small\")\n",
    "            new_image_dict1[k] = new_image_dict2[k]\n",
    "    d2.predicted_postprocessed = multi_label_image_from_dict(new_image_dict1)\n",
    "    joblib.dump(d2, f2)"
   ]
  }
 ],
 "metadata": {
  "kernelspec": {
   "display_name": "Python 3",
   "language": "python",
   "name": "python3"
  },
  "language_info": {
   "codemirror_mode": {
    "name": "ipython",
    "version": 3
   },
   "file_extension": ".py",
   "mimetype": "text/x-python",
   "name": "python",
   "nbconvert_exporter": "python",
   "pygments_lexer": "ipython3",
   "version": "3.6.10"
  }
 },
 "nbformat": 4,
 "nbformat_minor": 4
}

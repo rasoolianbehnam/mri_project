{
 "cells": [
  {
   "cell_type": "code",
   "execution_count": 82,
   "metadata": {
    "pycharm": {
     "is_executing": false
    }
   },
   "outputs": [],
   "source": [
    "from custom_imports import *"
   ]
  },
  {
   "cell_type": "code",
   "execution_count": 122,
   "metadata": {
    "pycharm": {
     "is_executing": false,
     "name": "#%%\n"
    }
   },
   "outputs": [
    {
     "data": {
      "text/plain": [
       "832"
      ]
     },
     "execution_count": 122,
     "metadata": {},
     "output_type": "execute_result"
    }
   ],
   "source": [
    "files = glob.glob(\"../data/mri_analysis_behnam/**//raw*.png\", recursive=True)\n",
    "len(files)"
   ]
  },
  {
   "cell_type": "code",
   "execution_count": 110,
   "metadata": {},
   "outputs": [
    {
     "name": "stdout",
     "output_type": "stream",
     "text": [
      "rm: cannot remove '../data/mri_analysis_behnam/': No such file or directory\r\n"
     ]
    }
   ],
   "source": [
    "# rm -r ../data/mri_analysis_behnam/"
   ]
  },
  {
   "cell_type": "code",
   "execution_count": 115,
   "metadata": {},
   "outputs": [
    {
     "data": {
      "text/plain": [
       "['../data/mri_analysis_behnam/1_Multigroup/Set1_DONE/Weight__Lifting/Weight__Lifting__-__Post/Male/Weight__Lifting__-__Post/Subject__W3B/Raw/raw_1-WM3B-3:16PostRaw.png',\n",
       " '../data/mri_analysis_behnam/1_Multigroup/Set1_DONE/Weight__Lifting/Weight__Lifting__-__Post/Male/Weight__Lifting__-__Post/Subject__W4B/Raw/raw_1-WM4B-3:16PostRaw.png',\n",
       " '../data/mri_analysis_behnam/1_Multigroup/Set1_DONE/Weight__Lifting/Weight__Lifting__-__Post/Male/Weight__Lifting__-__Post/Subject__W8B/Raw/raw_1-WM8B-3:16PostRaw.png',\n",
       " '../data/mri_analysis_behnam/1_Multigroup/Set1_DONE/Weight__Lifting/Weight__Lifting__-__Pre/Female/Subject__WF1/Raw/raw_4-FCWF1-14:16PreRaw.png',\n",
       " '../data/mri_analysis_behnam/2_Multigroup/Set2/Control/Control__-__Pre/Female/Subject__F5/Raw/raw_4-COF5-14:16RepPreRaw.png',\n",
       " '../data/mri_analysis_behnam/2_Multigroup/Set2/Control/Control__-__Pre/Male/Subject__M5/Raw/raw_1-CO5-3:16RepPreRaw.png',\n",
       " '../data/mri_analysis_behnam/2_Multigroup/Set2/Control/Control__-__Pre/Male/Subject__M6/Raw/raw_2-FCCO6-7:16RepPreRaw.png',\n",
       " '../data/mri_analysis_behnam/2_Multigroup/Set2/Weight__Lifting/Weight__Lifting__-__Post/Female/Subject__WF1B/Raw/raw_3-WF1B-11:16RepPostRaw.png',\n",
       " '../data/mri_analysis_behnam/3_Contiguous/Set1/Control/Control__-__Post/Female/Subject__F4B/Raw/raw_2-COF4B-10:50ConRaw.png',\n",
       " '../data/mri_analysis_behnam/3_Contiguous/Set1/Control/Control__-__Pre/Female/Subject__F7/Raw/raw_3-COF7-17:50ConRaw.png',\n",
       " '../data/mri_analysis_behnam/3_Contiguous/Set1/Weight__Lifting/Weight__Lifting__-__Post/Female/Subject__WF1B/Raw/raw_1-WF1B-4:50ConRaw.png',\n",
       " '../data/mri_analysis_behnam/3_Contiguous/Set1/Weight__Lifting/Weight__Lifting__-__Post/Female/Subject__WF2B/Raw/raw_1-WF2B-5:50ConRaw.png',\n",
       " '../data/mri_analysis_behnam/3_Contiguous/Set1/Weight__Lifting/Weight__Lifting__-__Pre/Female/Subject__WF3/Raw/raw_4-WF3-22:50ConRaw.png',\n",
       " '../data/mri_analysis_behnam/4_Contiguous/Set2/Control/Control__-__Pre/Male/Subject__M6/Raw/raw_2-CO6-10:50RepConRaw.png',\n",
       " '../data/mri_analysis_behnam/4_Contiguous/Set2/Weight__Lifting/Weight__Lifting__-__Post/Female/Subject__WF1B/Raw/raw_3-WF1B-15:50RepConRaw.png',\n",
       " '../data/mri_analysis_behnam/4_Contiguous/Set2/Weight__Lifting/Weight__Lifting__-__Post/Female/Subject__WF4B/Raw/raw_1-WF4B-3:50RepConRaw.png',\n",
       " '../data/mri_analysis_behnam/4_Contiguous/Set2/Weight__Lifting/Weight__Lifting__-__Post/Female/Subject__WF6B/Raw/raw_3-WF6B-16:50RepConRaw.png',\n",
       " '../data/mri_analysis_behnam/4_Contiguous/Set2/Weight__Lifting/Weight__Lifting__-__Pre/Female/Subject__WF2/Raw/raw_3-WF2-16:50RepConRaw.png']"
      ]
     },
     "execution_count": 115,
     "metadata": {},
     "output_type": "execute_result"
    }
   ],
   "source": [
    "sorted(files)"
   ]
  },
  {
   "cell_type": "code",
   "execution_count": null,
   "metadata": {},
   "outputs": [],
   "source": []
  }
 ],
 "metadata": {
  "kernelspec": {
   "display_name": "Python 3",
   "language": "python",
   "name": "python3"
  },
  "language_info": {
   "codemirror_mode": {
    "name": "ipython",
    "version": 3
   },
   "file_extension": ".py",
   "mimetype": "text/x-python",
   "name": "python",
   "nbconvert_exporter": "python",
   "pygments_lexer": "ipython3",
   "version": "3.6.10"
  },
  "pycharm": {
   "stem_cell": {
    "cell_type": "raw",
    "metadata": {
     "collapsed": false
    },
    "source": []
   }
  }
 },
 "nbformat": 4,
 "nbformat_minor": 4
}
